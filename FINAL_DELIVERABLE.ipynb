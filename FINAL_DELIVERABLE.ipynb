{
 "cells": [
  {
   "cell_type": "markdown",
   "metadata": {
    "collapsed": false
   },
   "source": [
    "# **Clearskye X BDAB Pipeline**\n",
    "\n",
    "<br />\n",
    "\n",
    "##### **Goal**: #####\n",
    "\n",
    "###### A maleable pipeline that harnesses machine learning in order to provide assistance in access management. \n",
    "<br />\n",
    "\n",
    "##### **General Walkthrough**:\n",
    "<br />\n",
    "\n",
    "**Rules:**\n",
    "The Rules (1 and 2) give a quick \"indication\" as to how likely a given account should have access to an entitlement given the rest of the data. This can be viewed as a simpler or more basic approach to predicting access that does not implement as much machine learning in the process. The rules are a more logical way of approaching the problem. They take in the memberships table and don't require a \"yes\" or \"no\" label unlike the models\n",
    "Clarification: Wordnet is used for the rules. Logistic Regression and Random Forest are used for the custom-trained-model's prediction.\n",
    "<br />\n",
    "\n",
    "**Three machine learning models are utilized in this code: NLP Wordnet (semantics comparison), Logisitc Regression, and Random Forest.**\n",
    "- The Wordnet model is the only model that comes pre-trained (aka ready for usage in predictions). Using this model, we're able to determine the similarity between words based on their actual meaning (semantics), which is used in Rule 1 for gauging the similarity of accounts.\n",
    "\n",
    "- Logistic Regression and Random Forest are both examples of machine learning \"classification\" models, which are models actually trained in this code based on the data that is introduced by ClearSkye. These two models perform the same task, but in different ways under the hood, both chiefly concerned with generating a model that, when trained and given information about a new account, will provide a prediction around whether this account should be granted access based on previous accounts that the model has seen. Two different models, rather than only one, are provided in this code so that, when testing their performances on imported ClearSkye data, the model that performs better can be selected for future application. *Note: Given limitations with the ClearSkye data that the code was initially built with, it wasn't possible to determine which model would actually perform better, so they are now both made available to test and select.*\n",
    "\n",
    "Finally, GridSearch sits at the very end of the code with the job of optimizing the Random Forest model by adjusting internal model parameters and comparing the permutations' performances. It then selects the best one and can be run as a model in its own right."
   ]
  },
  {
   "cell_type": "code",
   "execution_count": 6,
   "metadata": {
    "collapsed": false
   },
   "outputs": [
   ],
   "source": [
    "import numpy as np\n",
    "import pandas as pd\n",
    "import matplotlib.pyplot as plt\n",
    "from sklearn.preprocessing import OneHotEncoder\n",
    "from sklearn.model_selection import train_test_split\n",
    "from sklearn.ensemble import RandomForestClassifier"
   ]
  },
  {
   "cell_type": "markdown",
   "metadata": {
    "collapsed": false
   },
   "source": [
    "# Rules (Getting the Data)\n",
    "\n",
    "<br />\n",
    "\n",
    "###### **Rule Definition**: \n",
    "A rule is a pre-programmed function that uses some logic to determine whether an account-entitlement pairing is reasonable (i.e. the account should be given access to the entitlement in question) or whether it needs further examination. This hypothetical account-entitlement pairing will be referred to from now on as the target account and target entitlement. We created two different rules. The first one gave the feature similarity between the target account and all other accounts that have access to the target entitlement, and used this feature similarity to provide a color indication of whether the account-entitlement pairing was reasonable. In contrast, the second rule returned the proportion of other accounts (with the same value for a certain feature) that shared the target entitlement, and used this proportion to also provide a color indication. The color indication varied from red to green with green and yellow signifying that the current account - entitlement pairing is reasonable with green establishing a higher level of confidence, and red signifying that the target account should not be given access to the requested entitlement, or at the very least, deeper analysis is required from the HR reviewer.\n",
    "<br />\n",
    "- The first step is to import the data (memberships data table where each row provided a pairing between a certain account and entitlement) and Python libraries, and convert the .csv file containing the memberships data table into a Pandas dataframe (memberships_df) for easier processing.\n",
    "\n",
    "- Since we want a unique mapping between each account and the entitlements it has access to, we created a new dataframe called accounts_df, which was the memberships dataframe grouped by the accounts. This way, we could easily find the entitlements each unique account had access to."
   ]
  },
  {
   "cell_type": "code",
   "execution_count": 7,
   "metadata": {
    "collapsed": false
   },
   "outputs": [
    {
     "data": {
      "text/html": [
       "<div>\n",
       "<style scoped>\n",
       "    .dataframe tbody tr th:only-of-type {\n",
       "        vertical-align: middle;\n",
       "    }\n",
       "\n",
       "    .dataframe tbody tr th {\n",
       "        vertical-align: top;\n",
       "    }\n",
       "\n",
       "    .dataframe thead th {\n",
       "        text-align: right;\n",
       "    }\n",
       "</style>\n",
       "<table border=\"1\" class=\"dataframe\">\n",
       "  <thead>\n",
       "    <tr style=\"text-align: right;\">\n",
       "      <th></th>\n",
       "      <th>group.description</th>\n",
       "      <th>group.name</th>\n",
       "      <th>ilm_object</th>\n",
       "      <th>ilm_object.name</th>\n",
       "      <th>ilm_object.description</th>\n",
       "      <th>ilm_object.ref_x_cls_clear_skye_i_account.title</th>\n",
       "      <th>ilm_object.ref_x_cls_clear_skye_i_account.department</th>\n",
       "      <th>ilm_object.ref_x_cls_clear_skye_i_account.office</th>\n",
       "      <th>sys_created_on</th>\n",
       "      <th>sys_created_by</th>\n",
       "      <th>...</th>\n",
       "      <th>last_event</th>\n",
       "      <th>pre_transform</th>\n",
       "      <th>synchronized_by</th>\n",
       "      <th>sys_tags</th>\n",
       "      <th>sys_updated_on</th>\n",
       "      <th>sys_updated_by</th>\n",
       "      <th>sys_mod_count</th>\n",
       "      <th>valid_from</th>\n",
       "      <th>valid_to</th>\n",
       "      <th>object_id</th>\n",
       "    </tr>\n",
       "  </thead>\n",
       "  <tbody>\n",
       "    <tr>\n",
       "      <th>0</th>\n",
       "      <td>Grp_0710980_glo_dist Global  Group</td>\n",
       "      <td>$STVL00-EKDJ6F5INKPK</td>\n",
       "      <td>RozalinPas</td>\n",
       "      <td>RozalinPas</td>\n",
       "      <td>Master Fellow Manager</td>\n",
       "      <td>NaN</td>\n",
       "      <td>Accounting</td>\n",
       "      <td>Fremont</td>\n",
       "      <td>2021-03-08 23:24:42</td>\n",
       "      <td>system</td>\n",
       "      <td>...</td>\n",
       "      <td>ATO00001002</td>\n",
       "      <td>NaN</td>\n",
       "      <td>Entitlements &amp; Memberships Import</td>\n",
       "      <td>NaN</td>\n",
       "      <td>2021-03-08 23:24:42</td>\n",
       "      <td>system</td>\n",
       "      <td>0</td>\n",
       "      <td>NaN</td>\n",
       "      <td>NaN</td>\n",
       "      <td>2a76b6b31ba2e810b12275561a4bcbaacb5cdfcc-d841-...</td>\n",
       "    </tr>\n",
       "    <tr>\n",
       "      <th>1</th>\n",
       "      <td>Grp_0407789_glo_dist Global  Group</td>\n",
       "      <td>$SUPC00-FM0CJGKKDKSQ</td>\n",
       "      <td>ThaliaLaw</td>\n",
       "      <td>ThaliaLaw</td>\n",
       "      <td>Junior Sales Rep Manager</td>\n",
       "      <td>NaN</td>\n",
       "      <td>Sales</td>\n",
       "      <td>Alameda</td>\n",
       "      <td>2021-03-06 10:49:39</td>\n",
       "      <td>system</td>\n",
       "      <td>...</td>\n",
       "      <td>ATO00001002</td>\n",
       "      <td>NaN</td>\n",
       "      <td>Entitlements &amp; Memberships Import</td>\n",
       "      <td>NaN</td>\n",
       "      <td>2021-03-06 10:49:39</td>\n",
       "      <td>system</td>\n",
       "      <td>0</td>\n",
       "      <td>NaN</td>\n",
       "      <td>NaN</td>\n",
       "      <td>2a76b6b31ba2e810b12275561a4bcbaad9476e8f-d289-...</td>\n",
       "    </tr>\n",
       "    <tr>\n",
       "      <th>2</th>\n",
       "      <td>Grp_0472679_glo_dist Global  Group</td>\n",
       "      <td>$OCNE00-N6LFBR5D7TBT</td>\n",
       "      <td>LazloZau</td>\n",
       "      <td>LazloZau</td>\n",
       "      <td>Master Admin Normal</td>\n",
       "      <td>NaN</td>\n",
       "      <td>Accounting</td>\n",
       "      <td>Milpitas</td>\n",
       "      <td>2021-03-07 19:26:59</td>\n",
       "      <td>system</td>\n",
       "      <td>...</td>\n",
       "      <td>ATO00001002</td>\n",
       "      <td>NaN</td>\n",
       "      <td>Entitlements &amp; Memberships Import</td>\n",
       "      <td>NaN</td>\n",
       "      <td>2021-03-07 19:26:59</td>\n",
       "      <td>system</td>\n",
       "      <td>0</td>\n",
       "      <td>NaN</td>\n",
       "      <td>NaN</td>\n",
       "      <td>2a76b6b31ba2e810b12275561a4bcbaa192b7ed1-1686-...</td>\n",
       "    </tr>\n",
       "    <tr>\n",
       "      <th>3</th>\n",
       "      <td>Grp_0736517_glo_dist Global  Group</td>\n",
       "      <td>$IIPM00-DROD8L2QJT6D</td>\n",
       "      <td>StarletGio</td>\n",
       "      <td>StarletGio</td>\n",
       "      <td>Master Fellow Employee</td>\n",
       "      <td>NaN</td>\n",
       "      <td>Accounting</td>\n",
       "      <td>Alameda</td>\n",
       "      <td>2021-03-05 23:10:35</td>\n",
       "      <td>system</td>\n",
       "      <td>...</td>\n",
       "      <td>ATO00001002</td>\n",
       "      <td>NaN</td>\n",
       "      <td>Entitlements &amp; Memberships Import</td>\n",
       "      <td>NaN</td>\n",
       "      <td>2021-03-05 23:10:35</td>\n",
       "      <td>system</td>\n",
       "      <td>0</td>\n",
       "      <td>NaN</td>\n",
       "      <td>NaN</td>\n",
       "      <td>2a76b6b31ba2e810b12275561a4bcbaaa6d09ca3-5f70-...</td>\n",
       "    </tr>\n",
       "    <tr>\n",
       "      <th>4</th>\n",
       "      <td>Grp_0014647_glo_dist Global  Group</td>\n",
       "      <td>$OGO000-A7LEIV05SACU</td>\n",
       "      <td>KhalilMul</td>\n",
       "      <td>KhalilMul</td>\n",
       "      <td>Master Vice President Employee</td>\n",
       "      <td>NaN</td>\n",
       "      <td>Marketing</td>\n",
       "      <td>San Francisco</td>\n",
       "      <td>2021-03-10 06:52:08</td>\n",
       "      <td>system</td>\n",
       "      <td>...</td>\n",
       "      <td>ATO00001002</td>\n",
       "      <td>NaN</td>\n",
       "      <td>Entitlements &amp; Memberships Import</td>\n",
       "      <td>NaN</td>\n",
       "      <td>2021-03-10 06:52:08</td>\n",
       "      <td>system</td>\n",
       "      <td>0</td>\n",
       "      <td>NaN</td>\n",
       "      <td>NaN</td>\n",
       "      <td>2a76b6b31ba2e810b12275561a4bcbaaac5f98c4-0aa0-...</td>\n",
       "    </tr>\n",
       "    <tr>\n",
       "      <th>...</th>\n",
       "      <td>...</td>\n",
       "      <td>...</td>\n",
       "      <td>...</td>\n",
       "      <td>...</td>\n",
       "      <td>...</td>\n",
       "      <td>...</td>\n",
       "      <td>...</td>\n",
       "      <td>...</td>\n",
       "      <td>...</td>\n",
       "      <td>...</td>\n",
       "      <td>...</td>\n",
       "      <td>...</td>\n",
       "      <td>...</td>\n",
       "      <td>...</td>\n",
       "      <td>...</td>\n",
       "      <td>...</td>\n",
       "      <td>...</td>\n",
       "      <td>...</td>\n",
       "      <td>...</td>\n",
       "      <td>...</td>\n",
       "      <td>...</td>\n",
       "    </tr>\n",
       "    <tr>\n",
       "      <th>9995</th>\n",
       "      <td>Grp_0503080_glo_dist Global  Group</td>\n",
       "      <td>$VPKF00-I18FRM205CCJ</td>\n",
       "      <td>CatherinDor</td>\n",
       "      <td>CatherinDor</td>\n",
       "      <td>Chief Sales Rep Employee</td>\n",
       "      <td>NaN</td>\n",
       "      <td>Accounting</td>\n",
       "      <td>San Francisco</td>\n",
       "      <td>2021-03-09 14:39:00</td>\n",
       "      <td>system</td>\n",
       "      <td>...</td>\n",
       "      <td>ATO00001002</td>\n",
       "      <td>NaN</td>\n",
       "      <td>Entitlements &amp; Memberships Import</td>\n",
       "      <td>NaN</td>\n",
       "      <td>2021-03-09 14:39:00</td>\n",
       "      <td>system</td>\n",
       "      <td>0</td>\n",
       "      <td>NaN</td>\n",
       "      <td>NaN</td>\n",
       "      <td>2a76b6b31ba2e810b12275561a4bcbaa5dd73b74-f14d-...</td>\n",
       "    </tr>\n",
       "    <tr>\n",
       "      <th>9996</th>\n",
       "      <td>Grp_0013208_glo_dist Global  Group</td>\n",
       "      <td>$8FO000-6VTQA9QEBO1S</td>\n",
       "      <td>AlwynLoc</td>\n",
       "      <td>AlwynLoc</td>\n",
       "      <td>Associate Engineer Contract</td>\n",
       "      <td>NaN</td>\n",
       "      <td>Marketing</td>\n",
       "      <td>San Francisco</td>\n",
       "      <td>2021-03-07 02:03:56</td>\n",
       "      <td>system</td>\n",
       "      <td>...</td>\n",
       "      <td>ATO00001002</td>\n",
       "      <td>NaN</td>\n",
       "      <td>Entitlements &amp; Memberships Import</td>\n",
       "      <td>NaN</td>\n",
       "      <td>2021-03-07 02:03:56</td>\n",
       "      <td>system</td>\n",
       "      <td>0</td>\n",
       "      <td>NaN</td>\n",
       "      <td>NaN</td>\n",
       "      <td>2a76b6b31ba2e810b12275561a4bcbaab9c1cd11-592b-...</td>\n",
       "    </tr>\n",
       "    <tr>\n",
       "      <th>9997</th>\n",
       "      <td>Grp_0207593_glo_dist Global  Group</td>\n",
       "      <td>$GGM600-FGFURJE71VKQ</td>\n",
       "      <td>AjmalHar</td>\n",
       "      <td>AjmalHar</td>\n",
       "      <td>Lead Sales Rep Employee</td>\n",
       "      <td>NaN</td>\n",
       "      <td>Accounting</td>\n",
       "      <td>Santa Clara</td>\n",
       "      <td>2021-03-04 14:38:46</td>\n",
       "      <td>system</td>\n",
       "      <td>...</td>\n",
       "      <td>ATO00001002</td>\n",
       "      <td>NaN</td>\n",
       "      <td>Entitlements &amp; Memberships Import</td>\n",
       "      <td>NaN</td>\n",
       "      <td>2021-03-04 14:38:46</td>\n",
       "      <td>system</td>\n",
       "      <td>0</td>\n",
       "      <td>NaN</td>\n",
       "      <td>NaN</td>\n",
       "      <td>2a76b6b31ba2e810b12275561a4bcbaa7ba0b6f4-25d7-...</td>\n",
       "    </tr>\n",
       "    <tr>\n",
       "      <th>9998</th>\n",
       "      <td>Grp_0010745_glo_dist Global  Group</td>\n",
       "      <td>$BHK000-A1SI03HLGOHT</td>\n",
       "      <td>AureliaRoc</td>\n",
       "      <td>AureliaRoc</td>\n",
       "      <td>Master Assistant Contract</td>\n",
       "      <td>NaN</td>\n",
       "      <td>Marketing</td>\n",
       "      <td>San Francisco</td>\n",
       "      <td>2021-03-05 18:36:29</td>\n",
       "      <td>system</td>\n",
       "      <td>...</td>\n",
       "      <td>ATO00001002</td>\n",
       "      <td>NaN</td>\n",
       "      <td>Entitlements &amp; Memberships Import</td>\n",
       "      <td>NaN</td>\n",
       "      <td>2021-03-05 18:36:29</td>\n",
       "      <td>system</td>\n",
       "      <td>0</td>\n",
       "      <td>NaN</td>\n",
       "      <td>NaN</td>\n",
       "      <td>2a76b6b31ba2e810b12275561a4bcbaaa3912cce-f41f-...</td>\n",
       "    </tr>\n",
       "    <tr>\n",
       "      <th>9999</th>\n",
       "      <td>Grp_0717226_glo_dist Global  Group</td>\n",
       "      <td>$2B6M00-GICNR59J8ORG</td>\n",
       "      <td>SuhasFor</td>\n",
       "      <td>SuhasFor</td>\n",
       "      <td>Associate Auditor Normal</td>\n",
       "      <td>NaN</td>\n",
       "      <td>Accounting</td>\n",
       "      <td>Palo Alto</td>\n",
       "      <td>2021-03-10 06:57:40</td>\n",
       "      <td>system</td>\n",
       "      <td>...</td>\n",
       "      <td>ATO00001002</td>\n",
       "      <td>NaN</td>\n",
       "      <td>Entitlements &amp; Memberships Import</td>\n",
       "      <td>NaN</td>\n",
       "      <td>2021-03-10 06:57:40</td>\n",
       "      <td>system</td>\n",
       "      <td>0</td>\n",
       "      <td>NaN</td>\n",
       "      <td>NaN</td>\n",
       "      <td>2a76b6b31ba2e810b12275561a4bcbaa613e3f8d-d558-...</td>\n",
       "    </tr>\n",
       "  </tbody>\n",
       "</table>\n",
       "<p>10000 rows × 24 columns</p>\n",
       "</div>"
      ],
      "text/plain": [
       "                       group.description            group.name   ilm_object  \\\n",
       "0     Grp_0710980_glo_dist Global  Group  $STVL00-EKDJ6F5INKPK   RozalinPas   \n",
       "1     Grp_0407789_glo_dist Global  Group  $SUPC00-FM0CJGKKDKSQ    ThaliaLaw   \n",
       "2     Grp_0472679_glo_dist Global  Group  $OCNE00-N6LFBR5D7TBT     LazloZau   \n",
       "3     Grp_0736517_glo_dist Global  Group  $IIPM00-DROD8L2QJT6D   StarletGio   \n",
       "4     Grp_0014647_glo_dist Global  Group  $OGO000-A7LEIV05SACU    KhalilMul   \n",
       "...                                  ...                   ...          ...   \n",
       "9995  Grp_0503080_glo_dist Global  Group  $VPKF00-I18FRM205CCJ  CatherinDor   \n",
       "9996  Grp_0013208_glo_dist Global  Group  $8FO000-6VTQA9QEBO1S     AlwynLoc   \n",
       "9997  Grp_0207593_glo_dist Global  Group  $GGM600-FGFURJE71VKQ     AjmalHar   \n",
       "9998  Grp_0010745_glo_dist Global  Group  $BHK000-A1SI03HLGOHT   AureliaRoc   \n",
       "9999  Grp_0717226_glo_dist Global  Group  $2B6M00-GICNR59J8ORG     SuhasFor   \n",
       "\n",
       "     ilm_object.name          ilm_object.description  \\\n",
       "0         RozalinPas           Master Fellow Manager   \n",
       "1          ThaliaLaw        Junior Sales Rep Manager   \n",
       "2           LazloZau             Master Admin Normal   \n",
       "3         StarletGio          Master Fellow Employee   \n",
       "4          KhalilMul  Master Vice President Employee   \n",
       "...              ...                             ...   \n",
       "9995     CatherinDor        Chief Sales Rep Employee   \n",
       "9996        AlwynLoc     Associate Engineer Contract   \n",
       "9997        AjmalHar         Lead Sales Rep Employee   \n",
       "9998      AureliaRoc       Master Assistant Contract   \n",
       "9999        SuhasFor        Associate Auditor Normal   \n",
       "\n",
       "      ilm_object.ref_x_cls_clear_skye_i_account.title  \\\n",
       "0                                                 NaN   \n",
       "1                                                 NaN   \n",
       "2                                                 NaN   \n",
       "3                                                 NaN   \n",
       "4                                                 NaN   \n",
       "...                                               ...   \n",
       "9995                                              NaN   \n",
       "9996                                              NaN   \n",
       "9997                                              NaN   \n",
       "9998                                              NaN   \n",
       "9999                                              NaN   \n",
       "\n",
       "     ilm_object.ref_x_cls_clear_skye_i_account.department  \\\n",
       "0                                            Accounting     \n",
       "1                                                 Sales     \n",
       "2                                            Accounting     \n",
       "3                                            Accounting     \n",
       "4                                             Marketing     \n",
       "...                                                 ...     \n",
       "9995                                         Accounting     \n",
       "9996                                          Marketing     \n",
       "9997                                         Accounting     \n",
       "9998                                          Marketing     \n",
       "9999                                         Accounting     \n",
       "\n",
       "     ilm_object.ref_x_cls_clear_skye_i_account.office       sys_created_on  \\\n",
       "0                                             Fremont  2021-03-08 23:24:42   \n",
       "1                                             Alameda  2021-03-06 10:49:39   \n",
       "2                                            Milpitas  2021-03-07 19:26:59   \n",
       "3                                             Alameda  2021-03-05 23:10:35   \n",
       "4                                       San Francisco  2021-03-10 06:52:08   \n",
       "...                                               ...                  ...   \n",
       "9995                                    San Francisco  2021-03-09 14:39:00   \n",
       "9996                                    San Francisco  2021-03-07 02:03:56   \n",
       "9997                                      Santa Clara  2021-03-04 14:38:46   \n",
       "9998                                    San Francisco  2021-03-05 18:36:29   \n",
       "9999                                        Palo Alto  2021-03-10 06:57:40   \n",
       "\n",
       "     sys_created_by  ...   last_event pre_transform  \\\n",
       "0            system  ...  ATO00001002           NaN   \n",
       "1            system  ...  ATO00001002           NaN   \n",
       "2            system  ...  ATO00001002           NaN   \n",
       "3            system  ...  ATO00001002           NaN   \n",
       "4            system  ...  ATO00001002           NaN   \n",
       "...             ...  ...          ...           ...   \n",
       "9995         system  ...  ATO00001002           NaN   \n",
       "9996         system  ...  ATO00001002           NaN   \n",
       "9997         system  ...  ATO00001002           NaN   \n",
       "9998         system  ...  ATO00001002           NaN   \n",
       "9999         system  ...  ATO00001002           NaN   \n",
       "\n",
       "                        synchronized_by  sys_tags       sys_updated_on  \\\n",
       "0     Entitlements & Memberships Import       NaN  2021-03-08 23:24:42   \n",
       "1     Entitlements & Memberships Import       NaN  2021-03-06 10:49:39   \n",
       "2     Entitlements & Memberships Import       NaN  2021-03-07 19:26:59   \n",
       "3     Entitlements & Memberships Import       NaN  2021-03-05 23:10:35   \n",
       "4     Entitlements & Memberships Import       NaN  2021-03-10 06:52:08   \n",
       "...                                 ...       ...                  ...   \n",
       "9995  Entitlements & Memberships Import       NaN  2021-03-09 14:39:00   \n",
       "9996  Entitlements & Memberships Import       NaN  2021-03-07 02:03:56   \n",
       "9997  Entitlements & Memberships Import       NaN  2021-03-04 14:38:46   \n",
       "9998  Entitlements & Memberships Import       NaN  2021-03-05 18:36:29   \n",
       "9999  Entitlements & Memberships Import       NaN  2021-03-10 06:57:40   \n",
       "\n",
       "      sys_updated_by sys_mod_count  valid_from valid_to  \\\n",
       "0             system             0         NaN      NaN   \n",
       "1             system             0         NaN      NaN   \n",
       "2             system             0         NaN      NaN   \n",
       "3             system             0         NaN      NaN   \n",
       "4             system             0         NaN      NaN   \n",
       "...              ...           ...         ...      ...   \n",
       "9995          system             0         NaN      NaN   \n",
       "9996          system             0         NaN      NaN   \n",
       "9997          system             0         NaN      NaN   \n",
       "9998          system             0         NaN      NaN   \n",
       "9999          system             0         NaN      NaN   \n",
       "\n",
       "                                              object_id  \n",
       "0     2a76b6b31ba2e810b12275561a4bcbaacb5cdfcc-d841-...  \n",
       "1     2a76b6b31ba2e810b12275561a4bcbaad9476e8f-d289-...  \n",
       "2     2a76b6b31ba2e810b12275561a4bcbaa192b7ed1-1686-...  \n",
       "3     2a76b6b31ba2e810b12275561a4bcbaaa6d09ca3-5f70-...  \n",
       "4     2a76b6b31ba2e810b12275561a4bcbaaac5f98c4-0aa0-...  \n",
       "...                                                 ...  \n",
       "9995  2a76b6b31ba2e810b12275561a4bcbaa5dd73b74-f14d-...  \n",
       "9996  2a76b6b31ba2e810b12275561a4bcbaab9c1cd11-592b-...  \n",
       "9997  2a76b6b31ba2e810b12275561a4bcbaa7ba0b6f4-25d7-...  \n",
       "9998  2a76b6b31ba2e810b12275561a4bcbaaa3912cce-f41f-...  \n",
       "9999  2a76b6b31ba2e810b12275561a4bcbaa613e3f8d-d558-...  \n",
       "\n",
       "[10000 rows x 24 columns]"
      ]
     },
     "execution_count": 7,
     "metadata": {
     },
     "output_type": "execute_result"
    }
   ],
   "source": [
    "#Loading the data\n",
    "memberships_df = pd.read_csv(\"memberships.csv\")\n",
    "# Drop redundant columns\n",
    "# Going to assume ilm_object is primary key\n",
    "primary_account_key = \"ilm_object\"\n",
    "primary_entitlement_key = \"group.name\"\n",
    "memberships_df = memberships_df.drop(columns = ['group', 'group.source'], axis = 1)\n",
    "memberships_df"
   ]
  },
  {
   "cell_type": "code",
   "execution_count": 8,
   "metadata": {
    "collapsed": false
   },
   "outputs": [
    {
     "data": {
      "text/html": [
       "<div>\n",
       "<style scoped>\n",
       "    .dataframe tbody tr th:only-of-type {\n",
       "        vertical-align: middle;\n",
       "    }\n",
       "\n",
       "    .dataframe tbody tr th {\n",
       "        vertical-align: top;\n",
       "    }\n",
       "\n",
       "    .dataframe thead th {\n",
       "        text-align: right;\n",
       "    }\n",
       "</style>\n",
       "<table border=\"1\" class=\"dataframe\">\n",
       "  <thead>\n",
       "    <tr style=\"text-align: right;\">\n",
       "      <th></th>\n",
       "      <th>group.description</th>\n",
       "      <th>group.name</th>\n",
       "      <th>ilm_object.name</th>\n",
       "      <th>ilm_object.description</th>\n",
       "      <th>ilm_object.ref_x_cls_clear_skye_i_account.title</th>\n",
       "      <th>ilm_object.ref_x_cls_clear_skye_i_account.department</th>\n",
       "      <th>ilm_object.ref_x_cls_clear_skye_i_account.office</th>\n",
       "      <th>sys_created_on</th>\n",
       "      <th>sys_created_by</th>\n",
       "      <th>group_str</th>\n",
       "      <th>...</th>\n",
       "      <th>last_event</th>\n",
       "      <th>pre_transform</th>\n",
       "      <th>synchronized_by</th>\n",
       "      <th>sys_tags</th>\n",
       "      <th>sys_updated_on</th>\n",
       "      <th>sys_updated_by</th>\n",
       "      <th>sys_mod_count</th>\n",
       "      <th>valid_from</th>\n",
       "      <th>valid_to</th>\n",
       "      <th>object_id</th>\n",
       "    </tr>\n",
       "    <tr>\n",
       "      <th>ilm_object</th>\n",
       "      <th></th>\n",
       "      <th></th>\n",
       "      <th></th>\n",
       "      <th></th>\n",
       "      <th></th>\n",
       "      <th></th>\n",
       "      <th></th>\n",
       "      <th></th>\n",
       "      <th></th>\n",
       "      <th></th>\n",
       "      <th></th>\n",
       "      <th></th>\n",
       "      <th></th>\n",
       "      <th></th>\n",
       "      <th></th>\n",
       "      <th></th>\n",
       "      <th></th>\n",
       "      <th></th>\n",
       "      <th></th>\n",
       "      <th></th>\n",
       "      <th></th>\n",
       "    </tr>\n",
       "  </thead>\n",
       "  <tbody>\n",
       "    <tr>\n",
       "      <th>$1MU100-E17P27M7RV5H</th>\n",
       "      <td>Grp_0353422_glo_dist Global  Group</td>\n",
       "      <td>$3T3B00-C6GKBHI4LCLR</td>\n",
       "      <td>$1MU100-E17P27M7RV5H</td>\n",
       "      <td>Grp_0053742_glo_dist Global  Group</td>\n",
       "      <td>none</td>\n",
       "      <td>none</td>\n",
       "      <td>none</td>\n",
       "      <td>2021-03-06 11:19:56</td>\n",
       "      <td>system</td>\n",
       "      <td>2a76b6b31ba2e810b12275561a4bcbaa5642a449-46d2-...</td>\n",
       "      <td>...</td>\n",
       "      <td>ATO00001002</td>\n",
       "      <td>none</td>\n",
       "      <td>Entitlements &amp; Memberships Import</td>\n",
       "      <td>none</td>\n",
       "      <td>2021-03-06 11:19:56</td>\n",
       "      <td>system</td>\n",
       "      <td>0</td>\n",
       "      <td>none</td>\n",
       "      <td>none</td>\n",
       "      <td>2a76b6b31ba2e810b12275561a4bcbaae2818716-f212-...</td>\n",
       "    </tr>\n",
       "    <tr>\n",
       "      <th>$358C00-1DF8965HUA9C</th>\n",
       "      <td>Grp_0801056_glo_dist Global  Group</td>\n",
       "      <td>$KRPO00-73JU40RURNJ1</td>\n",
       "      <td>$358C00-1DF8965HUA9C</td>\n",
       "      <td>Grp_0389750_glo_dist Global  Group</td>\n",
       "      <td>none</td>\n",
       "      <td>none</td>\n",
       "      <td>none</td>\n",
       "      <td>2021-03-06 19:26:17</td>\n",
       "      <td>system</td>\n",
       "      <td>2a76b6b31ba2e810b12275561a4bcbaaadf8144b-c749-...</td>\n",
       "      <td>...</td>\n",
       "      <td>ATO00001002</td>\n",
       "      <td>none</td>\n",
       "      <td>Entitlements &amp; Memberships Import</td>\n",
       "      <td>none</td>\n",
       "      <td>2021-03-06 19:26:17</td>\n",
       "      <td>system</td>\n",
       "      <td>0</td>\n",
       "      <td>none</td>\n",
       "      <td>none</td>\n",
       "      <td>2a76b6b31ba2e810b12275561a4bcbaa5cdaab3b-26c7-...</td>\n",
       "    </tr>\n",
       "    <tr>\n",
       "      <th>$3FRO00-9NEOEPNPEONG</th>\n",
       "      <td>Grp_0313466_glo_dist Global  Group</td>\n",
       "      <td>$QIS900-2EJKERO3F65O</td>\n",
       "      <td>$3FRO00-9NEOEPNPEONG</td>\n",
       "      <td>Grp_0803649_glo_dist Global  Group</td>\n",
       "      <td>none</td>\n",
       "      <td>none</td>\n",
       "      <td>none</td>\n",
       "      <td>2021-03-09 14:55:36</td>\n",
       "      <td>system</td>\n",
       "      <td>2a76b6b31ba2e810b12275561a4bcbaa47d93d6b-383b-...</td>\n",
       "      <td>...</td>\n",
       "      <td>ATO00001002</td>\n",
       "      <td>none</td>\n",
       "      <td>Entitlements &amp; Memberships Import</td>\n",
       "      <td>none</td>\n",
       "      <td>2021-03-09 14:55:36</td>\n",
       "      <td>system</td>\n",
       "      <td>0</td>\n",
       "      <td>none</td>\n",
       "      <td>none</td>\n",
       "      <td>2a76b6b31ba2e810b12275561a4bcbaab36f9968-350e-...</td>\n",
       "    </tr>\n",
       "    <tr>\n",
       "      <th>$4D7E00-V5TP2DFJJQLQ</th>\n",
       "      <td>Grp_0202930_glo_dist Global  Group</td>\n",
       "      <td>$HJH600-1F8JD2B8VE8N</td>\n",
       "      <td>$4D7E00-V5TP2DFJJQLQ</td>\n",
       "      <td>Grp_0454547_glo_dist Global  Group</td>\n",
       "      <td>none</td>\n",
       "      <td>none</td>\n",
       "      <td>none</td>\n",
       "      <td>2021-03-07 04:13:17</td>\n",
       "      <td>system</td>\n",
       "      <td>2a76b6b31ba2e810b12275561a4bcbaa9cbef71b-82ed-...</td>\n",
       "      <td>...</td>\n",
       "      <td>ATO00001002</td>\n",
       "      <td>none</td>\n",
       "      <td>Entitlements &amp; Memberships Import</td>\n",
       "      <td>none</td>\n",
       "      <td>2021-03-07 04:13:17</td>\n",
       "      <td>system</td>\n",
       "      <td>0</td>\n",
       "      <td>none</td>\n",
       "      <td>none</td>\n",
       "      <td>2a76b6b31ba2e810b12275561a4bcbaabdcbc4e2-8c26-...</td>\n",
       "    </tr>\n",
       "    <tr>\n",
       "      <th>$4RE600-GESAH589CNVK</th>\n",
       "      <td>Grp_0290608_glo_dist Global  Group</td>\n",
       "      <td>$P16900-OH3IP0BU1O87</td>\n",
       "      <td>$4RE600-GESAH589CNVK</td>\n",
       "      <td>Grp_0201607_glo_dist Global  Group</td>\n",
       "      <td>none</td>\n",
       "      <td>none</td>\n",
       "      <td>none</td>\n",
       "      <td>2021-03-07 17:12:10</td>\n",
       "      <td>system</td>\n",
       "      <td>2a76b6b31ba2e810b12275561a4bcbaaae9bf51e-817e-...</td>\n",
       "      <td>...</td>\n",
       "      <td>ATO00001002</td>\n",
       "      <td>none</td>\n",
       "      <td>Entitlements &amp; Memberships Import</td>\n",
       "      <td>none</td>\n",
       "      <td>2021-03-07 17:12:10</td>\n",
       "      <td>system</td>\n",
       "      <td>0</td>\n",
       "      <td>none</td>\n",
       "      <td>none</td>\n",
       "      <td>2a76b6b31ba2e810b12275561a4bcbaadfd9d2d5-9dce-...</td>\n",
       "    </tr>\n",
       "    <tr>\n",
       "      <th>...</th>\n",
       "      <td>...</td>\n",
       "      <td>...</td>\n",
       "      <td>...</td>\n",
       "      <td>...</td>\n",
       "      <td>...</td>\n",
       "      <td>...</td>\n",
       "      <td>...</td>\n",
       "      <td>...</td>\n",
       "      <td>...</td>\n",
       "      <td>...</td>\n",
       "      <td>...</td>\n",
       "      <td>...</td>\n",
       "      <td>...</td>\n",
       "      <td>...</td>\n",
       "      <td>...</td>\n",
       "      <td>...</td>\n",
       "      <td>...</td>\n",
       "      <td>...</td>\n",
       "      <td>...</td>\n",
       "      <td>...</td>\n",
       "      <td>...</td>\n",
       "    </tr>\n",
       "    <tr>\n",
       "      <th>ZouheirAyo1</th>\n",
       "      <td>Grp_0601700_glo_dist Global  Group</td>\n",
       "      <td>$9MMI00-6I4I05JEBSOA</td>\n",
       "      <td>ZouheirAyo1</td>\n",
       "      <td>Junior Evangelist Employee</td>\n",
       "      <td>none</td>\n",
       "      <td>Product Development</td>\n",
       "      <td>Alameda</td>\n",
       "      <td>2021-03-06 04:05:46</td>\n",
       "      <td>system</td>\n",
       "      <td>2a76b6b31ba2e810b12275561a4bcbaa20ac5bca-22c6-...</td>\n",
       "      <td>...</td>\n",
       "      <td>ATO00001002</td>\n",
       "      <td>none</td>\n",
       "      <td>Entitlements &amp; Memberships Import</td>\n",
       "      <td>none</td>\n",
       "      <td>2021-03-06 04:05:46</td>\n",
       "      <td>system</td>\n",
       "      <td>0</td>\n",
       "      <td>none</td>\n",
       "      <td>none</td>\n",
       "      <td>2a76b6b31ba2e810b12275561a4bcbaa0250bb9d-b538-...</td>\n",
       "    </tr>\n",
       "    <tr>\n",
       "      <th>ZouheirCha</th>\n",
       "      <td>Grp_0697110_glo_dist Global  Group</td>\n",
       "      <td>$9LKL00-C7264HIRBF2B</td>\n",
       "      <td>ZouheirCha</td>\n",
       "      <td>Master Sales Rep Manager</td>\n",
       "      <td>none</td>\n",
       "      <td>Accounting</td>\n",
       "      <td>Redwood Shores</td>\n",
       "      <td>2021-03-09 20:51:40</td>\n",
       "      <td>system</td>\n",
       "      <td>2a76b6b31ba2e810b12275561a4bcbaadd88e08b-bfa9-...</td>\n",
       "      <td>...</td>\n",
       "      <td>ATO00001002</td>\n",
       "      <td>none</td>\n",
       "      <td>Entitlements &amp; Memberships Import</td>\n",
       "      <td>none</td>\n",
       "      <td>2021-03-09 20:51:40</td>\n",
       "      <td>system</td>\n",
       "      <td>0</td>\n",
       "      <td>none</td>\n",
       "      <td>none</td>\n",
       "      <td>2a76b6b31ba2e810b12275561a4bcbaa40d088bf-0163-...</td>\n",
       "    </tr>\n",
       "    <tr>\n",
       "      <th>Zsa zsaHig</th>\n",
       "      <td>Grp_0722988_glo_dist Global  Group</td>\n",
       "      <td>$GIDM00-TIRFB6GFGJGR</td>\n",
       "      <td>Zsa zsaHig</td>\n",
       "      <td>Principal Developer Manager</td>\n",
       "      <td>none</td>\n",
       "      <td>IT</td>\n",
       "      <td>Palo Alto</td>\n",
       "      <td>2021-03-07 16:48:04</td>\n",
       "      <td>system</td>\n",
       "      <td>2a76b6b31ba2e810b12275561a4bcbaa3a6fe905-b4a3-...</td>\n",
       "      <td>...</td>\n",
       "      <td>ATO00001002</td>\n",
       "      <td>none</td>\n",
       "      <td>Entitlements &amp; Memberships Import</td>\n",
       "      <td>none</td>\n",
       "      <td>2021-03-07 16:48:04</td>\n",
       "      <td>system</td>\n",
       "      <td>0</td>\n",
       "      <td>none</td>\n",
       "      <td>none</td>\n",
       "      <td>2a76b6b31ba2e810b12275561a4bcbaa8d6472b6-e53b-...</td>\n",
       "    </tr>\n",
       "    <tr>\n",
       "      <th>ZubenDAL</th>\n",
       "      <td>Grp_0013387_glo_dist Global  Group</td>\n",
       "      <td>$3GN000-5UT23JEU211J</td>\n",
       "      <td>ZubenDAL</td>\n",
       "      <td>Master Technician Employee</td>\n",
       "      <td>none</td>\n",
       "      <td>Marketing</td>\n",
       "      <td>San Francisco</td>\n",
       "      <td>2021-03-06 13:14:37</td>\n",
       "      <td>system</td>\n",
       "      <td>2a76b6b31ba2e810b12275561a4bcbaa8923c752-4812-...</td>\n",
       "      <td>...</td>\n",
       "      <td>ATO00001002</td>\n",
       "      <td>none</td>\n",
       "      <td>Entitlements &amp; Memberships Import</td>\n",
       "      <td>none</td>\n",
       "      <td>2021-03-06 13:14:37</td>\n",
       "      <td>system</td>\n",
       "      <td>0</td>\n",
       "      <td>none</td>\n",
       "      <td>none</td>\n",
       "      <td>2a76b6b31ba2e810b12275561a4bcbaabfca80b5-e800-...</td>\n",
       "    </tr>\n",
       "    <tr>\n",
       "      <th>ZubenDut</th>\n",
       "      <td>Grp_0466386_glo_dist Global  Group</td>\n",
       "      <td>$P5HE00-HKU1890C656T</td>\n",
       "      <td>ZubenDut</td>\n",
       "      <td>Elite Inspector Normal</td>\n",
       "      <td>none</td>\n",
       "      <td>Accounting</td>\n",
       "      <td>San Jose</td>\n",
       "      <td>2021-03-07 04:03:12</td>\n",
       "      <td>system</td>\n",
       "      <td>2a76b6b31ba2e810b12275561a4bcbaab3e5e1aa-d345-...</td>\n",
       "      <td>...</td>\n",
       "      <td>ATO00001002</td>\n",
       "      <td>none</td>\n",
       "      <td>Entitlements &amp; Memberships Import</td>\n",
       "      <td>none</td>\n",
       "      <td>2021-03-07 04:03:12</td>\n",
       "      <td>system</td>\n",
       "      <td>0</td>\n",
       "      <td>none</td>\n",
       "      <td>none</td>\n",
       "      <td>2a76b6b31ba2e810b12275561a4bcbaa331bc832-f167-...</td>\n",
       "    </tr>\n",
       "  </tbody>\n",
       "</table>\n",
       "<p>7277 rows × 23 columns</p>\n",
       "</div>"
      ],
      "text/plain": [
       "                                       group.description  \\\n",
       "ilm_object                                                 \n",
       "$1MU100-E17P27M7RV5H  Grp_0353422_glo_dist Global  Group   \n",
       "$358C00-1DF8965HUA9C  Grp_0801056_glo_dist Global  Group   \n",
       "$3FRO00-9NEOEPNPEONG  Grp_0313466_glo_dist Global  Group   \n",
       "$4D7E00-V5TP2DFJJQLQ  Grp_0202930_glo_dist Global  Group   \n",
       "$4RE600-GESAH589CNVK  Grp_0290608_glo_dist Global  Group   \n",
       "...                                                  ...   \n",
       "ZouheirAyo1           Grp_0601700_glo_dist Global  Group   \n",
       "ZouheirCha            Grp_0697110_glo_dist Global  Group   \n",
       "Zsa zsaHig            Grp_0722988_glo_dist Global  Group   \n",
       "ZubenDAL              Grp_0013387_glo_dist Global  Group   \n",
       "ZubenDut              Grp_0466386_glo_dist Global  Group   \n",
       "\n",
       "                                group.name       ilm_object.name  \\\n",
       "ilm_object                                                         \n",
       "$1MU100-E17P27M7RV5H  $3T3B00-C6GKBHI4LCLR  $1MU100-E17P27M7RV5H   \n",
       "$358C00-1DF8965HUA9C  $KRPO00-73JU40RURNJ1  $358C00-1DF8965HUA9C   \n",
       "$3FRO00-9NEOEPNPEONG  $QIS900-2EJKERO3F65O  $3FRO00-9NEOEPNPEONG   \n",
       "$4D7E00-V5TP2DFJJQLQ  $HJH600-1F8JD2B8VE8N  $4D7E00-V5TP2DFJJQLQ   \n",
       "$4RE600-GESAH589CNVK  $P16900-OH3IP0BU1O87  $4RE600-GESAH589CNVK   \n",
       "...                                    ...                   ...   \n",
       "ZouheirAyo1           $9MMI00-6I4I05JEBSOA           ZouheirAyo1   \n",
       "ZouheirCha            $9LKL00-C7264HIRBF2B            ZouheirCha   \n",
       "Zsa zsaHig            $GIDM00-TIRFB6GFGJGR            Zsa zsaHig   \n",
       "ZubenDAL              $3GN000-5UT23JEU211J              ZubenDAL   \n",
       "ZubenDut              $P5HE00-HKU1890C656T              ZubenDut   \n",
       "\n",
       "                                  ilm_object.description  \\\n",
       "ilm_object                                                 \n",
       "$1MU100-E17P27M7RV5H  Grp_0053742_glo_dist Global  Group   \n",
       "$358C00-1DF8965HUA9C  Grp_0389750_glo_dist Global  Group   \n",
       "$3FRO00-9NEOEPNPEONG  Grp_0803649_glo_dist Global  Group   \n",
       "$4D7E00-V5TP2DFJJQLQ  Grp_0454547_glo_dist Global  Group   \n",
       "$4RE600-GESAH589CNVK  Grp_0201607_glo_dist Global  Group   \n",
       "...                                                  ...   \n",
       "ZouheirAyo1                   Junior Evangelist Employee   \n",
       "ZouheirCha                      Master Sales Rep Manager   \n",
       "Zsa zsaHig                   Principal Developer Manager   \n",
       "ZubenDAL                      Master Technician Employee   \n",
       "ZubenDut                          Elite Inspector Normal   \n",
       "\n",
       "                     ilm_object.ref_x_cls_clear_skye_i_account.title  \\\n",
       "ilm_object                                                             \n",
       "$1MU100-E17P27M7RV5H                                            none   \n",
       "$358C00-1DF8965HUA9C                                            none   \n",
       "$3FRO00-9NEOEPNPEONG                                            none   \n",
       "$4D7E00-V5TP2DFJJQLQ                                            none   \n",
       "$4RE600-GESAH589CNVK                                            none   \n",
       "...                                                              ...   \n",
       "ZouheirAyo1                                                     none   \n",
       "ZouheirCha                                                      none   \n",
       "Zsa zsaHig                                                      none   \n",
       "ZubenDAL                                                        none   \n",
       "ZubenDut                                                        none   \n",
       "\n",
       "                     ilm_object.ref_x_cls_clear_skye_i_account.department  \\\n",
       "ilm_object                                                                  \n",
       "$1MU100-E17P27M7RV5H                                               none     \n",
       "$358C00-1DF8965HUA9C                                               none     \n",
       "$3FRO00-9NEOEPNPEONG                                               none     \n",
       "$4D7E00-V5TP2DFJJQLQ                                               none     \n",
       "$4RE600-GESAH589CNVK                                               none     \n",
       "...                                                                 ...     \n",
       "ZouheirAyo1                                         Product Development     \n",
       "ZouheirCha                                                   Accounting     \n",
       "Zsa zsaHig                                                           IT     \n",
       "ZubenDAL                                                      Marketing     \n",
       "ZubenDut                                                     Accounting     \n",
       "\n",
       "                     ilm_object.ref_x_cls_clear_skye_i_account.office  \\\n",
       "ilm_object                                                              \n",
       "$1MU100-E17P27M7RV5H                                             none   \n",
       "$358C00-1DF8965HUA9C                                             none   \n",
       "$3FRO00-9NEOEPNPEONG                                             none   \n",
       "$4D7E00-V5TP2DFJJQLQ                                             none   \n",
       "$4RE600-GESAH589CNVK                                             none   \n",
       "...                                                               ...   \n",
       "ZouheirAyo1                                                   Alameda   \n",
       "ZouheirCha                                             Redwood Shores   \n",
       "Zsa zsaHig                                                  Palo Alto   \n",
       "ZubenDAL                                                San Francisco   \n",
       "ZubenDut                                                     San Jose   \n",
       "\n",
       "                           sys_created_on sys_created_by  \\\n",
       "ilm_object                                                 \n",
       "$1MU100-E17P27M7RV5H  2021-03-06 11:19:56         system   \n",
       "$358C00-1DF8965HUA9C  2021-03-06 19:26:17         system   \n",
       "$3FRO00-9NEOEPNPEONG  2021-03-09 14:55:36         system   \n",
       "$4D7E00-V5TP2DFJJQLQ  2021-03-07 04:13:17         system   \n",
       "$4RE600-GESAH589CNVK  2021-03-07 17:12:10         system   \n",
       "...                                   ...            ...   \n",
       "ZouheirAyo1           2021-03-06 04:05:46         system   \n",
       "ZouheirCha            2021-03-09 20:51:40         system   \n",
       "Zsa zsaHig            2021-03-07 16:48:04         system   \n",
       "ZubenDAL              2021-03-06 13:14:37         system   \n",
       "ZubenDut              2021-03-07 04:03:12         system   \n",
       "\n",
       "                                                              group_str  ...  \\\n",
       "ilm_object                                                               ...   \n",
       "$1MU100-E17P27M7RV5H  2a76b6b31ba2e810b12275561a4bcbaa5642a449-46d2-...  ...   \n",
       "$358C00-1DF8965HUA9C  2a76b6b31ba2e810b12275561a4bcbaaadf8144b-c749-...  ...   \n",
       "$3FRO00-9NEOEPNPEONG  2a76b6b31ba2e810b12275561a4bcbaa47d93d6b-383b-...  ...   \n",
       "$4D7E00-V5TP2DFJJQLQ  2a76b6b31ba2e810b12275561a4bcbaa9cbef71b-82ed-...  ...   \n",
       "$4RE600-GESAH589CNVK  2a76b6b31ba2e810b12275561a4bcbaaae9bf51e-817e-...  ...   \n",
       "...                                                                 ...  ...   \n",
       "ZouheirAyo1           2a76b6b31ba2e810b12275561a4bcbaa20ac5bca-22c6-...  ...   \n",
       "ZouheirCha            2a76b6b31ba2e810b12275561a4bcbaadd88e08b-bfa9-...  ...   \n",
       "Zsa zsaHig            2a76b6b31ba2e810b12275561a4bcbaa3a6fe905-b4a3-...  ...   \n",
       "ZubenDAL              2a76b6b31ba2e810b12275561a4bcbaa8923c752-4812-...  ...   \n",
       "ZubenDut              2a76b6b31ba2e810b12275561a4bcbaab3e5e1aa-d345-...  ...   \n",
       "\n",
       "                       last_event pre_transform  \\\n",
       "ilm_object                                        \n",
       "$1MU100-E17P27M7RV5H  ATO00001002          none   \n",
       "$358C00-1DF8965HUA9C  ATO00001002          none   \n",
       "$3FRO00-9NEOEPNPEONG  ATO00001002          none   \n",
       "$4D7E00-V5TP2DFJJQLQ  ATO00001002          none   \n",
       "$4RE600-GESAH589CNVK  ATO00001002          none   \n",
       "...                           ...           ...   \n",
       "ZouheirAyo1           ATO00001002          none   \n",
       "ZouheirCha            ATO00001002          none   \n",
       "Zsa zsaHig            ATO00001002          none   \n",
       "ZubenDAL              ATO00001002          none   \n",
       "ZubenDut              ATO00001002          none   \n",
       "\n",
       "                                        synchronized_by sys_tags  \\\n",
       "ilm_object                                                         \n",
       "$1MU100-E17P27M7RV5H  Entitlements & Memberships Import     none   \n",
       "$358C00-1DF8965HUA9C  Entitlements & Memberships Import     none   \n",
       "$3FRO00-9NEOEPNPEONG  Entitlements & Memberships Import     none   \n",
       "$4D7E00-V5TP2DFJJQLQ  Entitlements & Memberships Import     none   \n",
       "$4RE600-GESAH589CNVK  Entitlements & Memberships Import     none   \n",
       "...                                                 ...      ...   \n",
       "ZouheirAyo1           Entitlements & Memberships Import     none   \n",
       "ZouheirCha            Entitlements & Memberships Import     none   \n",
       "Zsa zsaHig            Entitlements & Memberships Import     none   \n",
       "ZubenDAL              Entitlements & Memberships Import     none   \n",
       "ZubenDut              Entitlements & Memberships Import     none   \n",
       "\n",
       "                           sys_updated_on sys_updated_by sys_mod_count  \\\n",
       "ilm_object                                                               \n",
       "$1MU100-E17P27M7RV5H  2021-03-06 11:19:56         system             0   \n",
       "$358C00-1DF8965HUA9C  2021-03-06 19:26:17         system             0   \n",
       "$3FRO00-9NEOEPNPEONG  2021-03-09 14:55:36         system             0   \n",
       "$4D7E00-V5TP2DFJJQLQ  2021-03-07 04:13:17         system             0   \n",
       "$4RE600-GESAH589CNVK  2021-03-07 17:12:10         system             0   \n",
       "...                                   ...            ...           ...   \n",
       "ZouheirAyo1           2021-03-06 04:05:46         system             0   \n",
       "ZouheirCha            2021-03-09 20:51:40         system             0   \n",
       "Zsa zsaHig            2021-03-07 16:48:04         system             0   \n",
       "ZubenDAL              2021-03-06 13:14:37         system             0   \n",
       "ZubenDut              2021-03-07 04:03:12         system             0   \n",
       "\n",
       "                     valid_from valid_to  \\\n",
       "ilm_object                                 \n",
       "$1MU100-E17P27M7RV5H       none     none   \n",
       "$358C00-1DF8965HUA9C       none     none   \n",
       "$3FRO00-9NEOEPNPEONG       none     none   \n",
       "$4D7E00-V5TP2DFJJQLQ       none     none   \n",
       "$4RE600-GESAH589CNVK       none     none   \n",
       "...                         ...      ...   \n",
       "ZouheirAyo1                none     none   \n",
       "ZouheirCha                 none     none   \n",
       "Zsa zsaHig                 none     none   \n",
       "ZubenDAL                   none     none   \n",
       "ZubenDut                   none     none   \n",
       "\n",
       "                                                              object_id  \n",
       "ilm_object                                                               \n",
       "$1MU100-E17P27M7RV5H  2a76b6b31ba2e810b12275561a4bcbaae2818716-f212-...  \n",
       "$358C00-1DF8965HUA9C  2a76b6b31ba2e810b12275561a4bcbaa5cdaab3b-26c7-...  \n",
       "$3FRO00-9NEOEPNPEONG  2a76b6b31ba2e810b12275561a4bcbaab36f9968-350e-...  \n",
       "$4D7E00-V5TP2DFJJQLQ  2a76b6b31ba2e810b12275561a4bcbaabdcbc4e2-8c26-...  \n",
       "$4RE600-GESAH589CNVK  2a76b6b31ba2e810b12275561a4bcbaadfd9d2d5-9dce-...  \n",
       "...                                                                 ...  \n",
       "ZouheirAyo1           2a76b6b31ba2e810b12275561a4bcbaa0250bb9d-b538-...  \n",
       "ZouheirCha            2a76b6b31ba2e810b12275561a4bcbaa40d088bf-0163-...  \n",
       "Zsa zsaHig            2a76b6b31ba2e810b12275561a4bcbaa8d6472b6-e53b-...  \n",
       "ZubenDAL              2a76b6b31ba2e810b12275561a4bcbaabfca80b5-e800-...  \n",
       "ZubenDut              2a76b6b31ba2e810b12275561a4bcbaa331bc832-f167-...  \n",
       "\n",
       "[7277 rows x 23 columns]"
      ]
     },
     "execution_count": 8,
     "metadata": {
     },
     "output_type": "execute_result"
    }
   ],
   "source": [
    "def account_entitlement_variables(memberships_df):\n",
    "    accounts_df = memberships_df.groupby(primary_account_key).first()\n",
    "    entitlements = {}\n",
    "    for i in memberships_df.index:\n",
    "        entitlement = memberships_df[primary_entitlement_key][i]\n",
    "        account = memberships_df[primary_account_key][i]\n",
    "        if entitlement in entitlements.keys():\n",
    "            entitlements[entitlement].append(account)\n",
    "        else:\n",
    "            entitlements[entitlement] = [account]\n",
    "    return entitlements, accounts_df\n",
    "\n",
    "entitlement_to_accounts, accounts_df = account_entitlement_variables(memberships_df)\n",
    "accounts_df = accounts_df.fillna(\"none\")\n",
    "accounts_df"
   ]
  },
  {
   "cell_type": "code",
   "execution_count": 0,
   "metadata": {
    "collapsed": false
   },
   "outputs": [
   ],
   "source": [
   ]
  },
  {
   "cell_type": "markdown",
   "metadata": {
    "collapsed": false
   },
   "source": [
    "<br />\n",
    "\n",
    "## Calculate Semantic Difference\n",
    "\n",
    "\n",
    "- Next, we create helper functions in order to calculate rules 1 and 2. One of the helper functions we create (calculate_semantic_difference) takes two phrases of similar length and calculates the percent similarity between the two phrases using their underlying meaning rather than a naiive word equality comparison. This ensures that we don't give a similarity score of 0 for two words that inherently mean the same thing like \"developer\" and \"engineer\".\n",
    "\n",
    "- To perform this similarity comparison, a natural language processing model called Wordnet was imported to handle semantic string comparison between account features like job title. Wordnet contains every single word in the English dictionary and the relationships between words (synonyms, antonyms, etc.) Thus, it was the perfect tool to use to get the semantic similarity between words since it captured the underlying meaning of each word. Thus, a limitation of this model would be for non-English text since Wordnet only contains relationships for English words."
   ]
  },
  {
   "cell_type": "code",
   "execution_count": 9,
   "metadata": {
    "collapsed": false
   },
   "outputs": [
    {
     "name": "stdout",
     "output_type": "stream",
     "text": [
      "0.21978021978021978\n"
     ]
    }
   ],
   "source": [
    "from nltk.corpus import wordnet as wn\n",
    "\n",
    "def calculate_semantic_difference(feature1, feature2):\n",
    "    \"\"\" compute the feature similarity using Wordnet \"\"\"\n",
    "    # Tokenize and tag\n",
    "    feature1 = feature1.split()\n",
    "    feature2 = feature2.split()\n",
    "    #Initialize variables\n",
    "    score, count = 0.0, 0\n",
    "    suffix = \".n.01\"\n",
    "    similarity_score = 0\n",
    "    minWords = min(len(feature1), len(feature2))\n",
    "    counter = 0\n",
    "    # For each word in the first sentence\n",
    "    for word1 in feature1:\n",
    "        if counter == minWords:\n",
    "            break\n",
    "        # Get the similarity value of the most similar word in the other sentence\n",
    "        best_score = getBestScore(word1, feature2, suffix)\n",
    "        # Check that the similarity could have been computed\n",
    "        if best_score is not None:\n",
    "            similarity_score += best_score\n",
    "        #Increment counter\n",
    "        counter += 1\n",
    "    # Average the values\n",
    "    return similarity_score / minWords\n",
    "\n",
    "#Gets the semantic similarity between a word and a list of other words\n",
    "def getBestScore(target_word, other_words, suffix):\n",
    "    best_score = -1\n",
    "    for other_word in other_words:\n",
    "        try:\n",
    "            score = wn.synset(target_word + suffix).wup_similarity(wn.synset(other_word + suffix))\n",
    "        except:\n",
    "            score = 0\n",
    "        if best_score == -1 or score > best_score:\n",
    "            best_score = score\n",
    "    return best_score\n",
    "\n",
    "def getColor(percent_similarity): #returns a color based on percent similarity\n",
    "    if (percent_similarity < 30):\n",
    "        return \"red\"\n",
    "    if (percent_similarity >= 30 and percent_similarity < 70):\n",
    "        return \"yellow\"\n",
    "    if (percent_similarity >= 70):\n",
    "        return \"green\"\n",
    "\n",
    "print(calculate_semantic_difference(\"System Administration\", \"Database Team\"))"
   ]
  },
  {
   "cell_type": "markdown",
   "metadata": {
    "collapsed": false
   },
   "source": [
    "<br />\n",
    "\n",
    "## Rule 1 and 2 Implementation + Entropy\n",
    "\n",
    "Here we actually implement rules 1 and 2. Like mentioned earlier, Rule 1 gave the feature similarity between the target account and all other accounts that have access to the target entitlement, and used this feature similarity to provide a color indication of whether the account-entitlement pairing was reasonable. On the other hand, Rule 2 returned the proportion of other accounts (with the same value for a certain feature) that shared the target entitlement, and used this proportion to also provide a color indication. The color indications provided are red, yellow, and green. A percent similarity less than 30% resulted in a red indication, a percent similarity between 30% and 70% resulted in a yellow indication, and a percent similarity above 70% resulted in a green indication. Obviously, these thresholds can be easily changed (look at getColor method above).\n",
    "\n",
    "##### Regarding entropy:\n",
    "The point of finding the entropy with the calculate_entropy function is to bring variance into scope for Rule 1. The entropy is only calculated when the semantic similarity returned from the Wordnet model is 0, indicating that the words given to this model are simply not comparable. An example would be locations (e.g. we likely don't want our model making predictions based on how similar a place like \"San Jose\" semantically is to \"Berkeley\"). When such an example arises, we calculate the entropy in order to capture how much variance or difference in every value there is within the column. Every column will have just one entropy score which is then inversed and multiplied by the percentage of values in the column that equal the target account's feature value. This product is finally multiplied by the sum of the inverses of all entropies within the data in order to provide context to the individual column's entropy.\n",
    "##### Why entropy?\n",
    "An example illuminating why entropy, or capturing variance, is useful would be to look at a circumstance where there is a software engineer applying for an entitlement. In one case, the accounts that already have access to the entitlement might all be HR managers. In the other case, the accounts that already have access to the entitlement might all be different and wildly varying, like a senior VP and an IT intern. Without taking variance into consideration, these two cases would be treated the same since the software engineer is the first \"software engineer\" accessing the entitlement. However, our team felt these two scenarios were different and should thus be treated differently, hence, entropy was introduced."
   ]
  },
  {
   "cell_type": "code",
   "execution_count": 21,
   "metadata": {
    "collapsed": false,
    "scrolled": true
   },
   "outputs": [
    {
     "name": "stdout",
     "output_type": "stream",
     "text": [
      "Rule 1 percent similarity: 0.0005668087854950308 and resulting indication: red\n",
      "Rule 2 percent similarity: 0.0019551616266944736 and resulting indication: red\n"
     ]
    }
   ],
   "source": [
    "#Rule 1\n",
    "def compare_feature_similarity(target_account, other_accounts, feature_key):\n",
    "    matching_feature_similarity = 0\n",
    "#     equivalent_value_count = 1\n",
    "    target_account_feature = accounts_df.loc[target_account, feature_key]\n",
    "    other_account_features = []\n",
    "    for other_account in other_accounts:\n",
    "        other_account_feature = accounts_df.loc[other_account, feature_key]\n",
    "        other_account_features.append(other_account_feature)\n",
    "        semantic_diff = calculate_semantic_difference(target_account_feature, other_account_feature)\n",
    "        matching_feature_similarity += semantic_diff # TODO VERY IMPORTANT, IMPLEMENT\n",
    "#         if other_account_feature == target_account_feature:\n",
    "#             equivalent_value_count++\n",
    "    matching_feature_similarity = matching_feature_similarity/len(other_accounts)\n",
    "    if matching_feature_similarity == 0:\n",
    "        entropy_weight = 1 / (calculate_entropy(np.unique(np.array(other_account_features), return_counts=True)[1]) + 1)\n",
    "        unique_return_counts = np.unique(accounts_df[feature_key].to_numpy(), return_counts=True)[1]\n",
    "        all_unique_counts = [np.unique(accounts_df[key].to_numpy(), return_counts=True)[1] for key in accounts_df.columns]\n",
    "        total_variation = sum(unique_return_counts)\n",
    "        percentage = accounts_df[feature_key].tolist().count(target_account_feature) / total_variation\n",
    "        entropy_weight = 1 / (calculate_entropy(unique_return_counts) + 1)\n",
    "        total_weight = sum([1 / (calculate_entropy(unique_count) + 1) for unique_count in all_unique_counts])\n",
    "        matching_feature_similarity = (percentage * entropy_weight)/total_weight\n",
    "    retColor = getColor(matching_feature_similarity * 100)\n",
    "    return matching_feature_similarity, retColor\n",
    "\n",
    "# Helper function for using entropy to determine variance in data\n",
    "def calculate_entropy(arr):\n",
    "    return - sum([x/sum(arr) * np.log2(x/sum(arr)) for x in arr])\n",
    "\n",
    "\n",
    "# Given an entitlement and an account , gives the feature similarity between account and all accounts that have access to entitlement.\n",
    "def rule_1(account, entitlement, feature_key):\n",
    "    other_accounts = entitlement_to_accounts[entitlement]\n",
    "    return compare_feature_similarity(account, other_accounts, feature_key)\n",
    "\n",
    "# Given an entitlement and an account , collects all the other accounts in memberships such that their feature is equal to the account feature, then returns the proportion of accounts that have access to the entitlement.\n",
    "def rule_2(account, entitlement, feature_key): #Here account is an IGA object, entitlement is the entitlement in the account-entitlement pairing, and feature_key is the feature being examined (title, office, description, etc.)\n",
    "    primary_feature_key = feature_key\n",
    "    target_account_feature = accounts_df.loc[account, feature_key]\n",
    "    accounts_with_entitlement_df = memberships_df.loc[memberships_df[primary_feature_key] == target_account_feature]\n",
    "    accounts = accounts_with_entitlement_df[primary_account_key].tolist()\n",
    "    similarity_counter = 0\n",
    "    for account in accounts:\n",
    "        other_account_entitlement = accounts_df.loc[account][primary_entitlement_key]\n",
    "        if other_account_entitlement == entitlement:\n",
    "            similarity_counter += 1\n",
    "    matching_entitlement_similarity = similarity_counter/len(accounts)\n",
    "    retColor = getColor(matching_entitlement_similarity * 100)\n",
    "    return matching_entitlement_similarity, retColor\n",
    "\n",
    "... #Space to add more rules here!\n",
    "\n",
    "\n",
    "# Sample Testing on a few parameters\n",
    "semantic_similarity,  color1 = rule_1(\"ZubenDut\", \"$P5HE00-HKU1890C656T\", \"ilm_object.ref_x_cls_clear_skye_i_account.office\")\n",
    "matching_entitlement_similarity, color2 = rule_2(\"ZubenDut\", \"$P5HE00-HKU1890C656T\", \"ilm_object.ref_x_cls_clear_skye_i_account.department\")\n",
    "print(\"Rule 1 percent similarity: \" + str(semantic_similarity) + \" and resulting indication: \" + color1)\n",
    "print(\"Rule 2 percent similarity: \" + str(matching_entitlement_similarity) + \" and resulting indication: \" + color2)"
   ]
  },
  {
   "cell_type": "markdown",
   "metadata": {
    "collapsed": false
   },
   "source": [
    "## Rule Testing Rig\n",
    "A modifiable cell for testing the previously defined rules on samples of the data."
   ]
  },
  {
   "cell_type": "code",
   "execution_count": 23,
   "metadata": {
    "collapsed": false
   },
   "outputs": [
    {
     "name": "stdout",
     "output_type": "stream",
     "text": [
      "Ent: $Q80F00-VPROLP9VF6O9 | Account: OhioSob\n",
      "\tRule 1 for \"ilm_object.description\" percent similarity: 0.6761385176346815 and resulting indication: yellow\n",
      "\tRule 1 for \"ilm_object.ref_x_cls_clear_skye_i_account.department\" percent similarity: 0.25 and resulting indication: red\n"
     ]
    },
    {
     "name": "stdout",
     "output_type": "stream",
     "text": [
      "\tRule 1 for \"ilm_object.ref_x_cls_clear_skye_i_account.office\" percent similarity: 0.0006202453039928788 and resulting indication: red\n",
      "\tRule 2 percent similarity: 0.0 and resulting indication: red\n",
      "\tRule 2 percent similarity: 0.0 and resulting indication: red\n",
      "\tRule 2 percent similarity: 0.012077294685990338 and resulting indication: red\n",
      "Ent: $Q80F00-VPROLP9VF6O9 | Account: KatyBoe\n",
      "\tRule 1 for \"ilm_object.description\" percent similarity: 0.47858570737827716 and resulting indication: yellow\n",
      "\tRule 1 for \"ilm_object.ref_x_cls_clear_skye_i_account.department\" percent similarity: 0.25 and resulting indication: red\n"
     ]
    }
   ],
   "source": [
    "# number of accounts to test\n",
    "account_sample_size = 3\n",
    "# randomly select sample_size of accounts\n",
    "account_sample_df = accounts_df.sample(n=account_sample_size)\n",
    "\n",
    "# number of entitlements to test per account\n",
    "ent_sample_size = 1\n",
    "# randomly select sample_size of entitlements\n",
    "ent_sample_df = memberships_df.sample(n=ent_sample_size)\n",
    "\n",
    "# columns to focus on in rule 1 and other rules that require a column of focus\n",
    "columns_of_interest = [\"ilm_object.description\", \"ilm_object.ref_x_cls_clear_skye_i_account.department\",\n",
    "                       \"ilm_object.ref_x_cls_clear_skye_i_account.office\"]\n",
    "\n",
    "# iterates through every account in the generated sample account dataframe\n",
    "for account_row in account_sample_df.iterrows():\n",
    "    account = account_row[0]\n",
    "\n",
    "    # iterates through every entitlement in the generated sample entitlement dataframe for every account iteration\n",
    "    for ent_row in ent_sample_df.iterrows():\n",
    "        ent = ent_row[1][1]\n",
    "        print(\"Ent: \" + ent + \" | Account: \" + account)\n",
    "\n",
    "        # Rule 1 Testing\n",
    "        # iterates through every column listed above for every entitlement iteration\n",
    "        for col in columns_of_interest:\n",
    "            semantic_similarity,  color1 = rule_1(account, ent, col)\n",
    "            print(\"\\tRule 1 for \\\"\" + col + \"\\\" percent similarity: \" + str(semantic_similarity) + \" and resulting indication: \" + color1)\n",
    "\n",
    "        # Rules 2 Testing\n",
    "        for col in columns_of_interest:\n",
    "            matching_entitlement_similarity, color2 = rule_2(account, ent, col)\n",
    "            print(\"\\tRule 2 percent similarity: \" + str(matching_entitlement_similarity) + \" and resulting indication: \" + color2)\n"
   ]
  },
  {
   "cell_type": "markdown",
   "metadata": {
    "collapsed": false
   },
   "source": [
    "# Cleaning the Model Data (Review Data)"
   ]
  },
  {
   "cell_type": "markdown",
   "metadata": {
    "collapsed": false
   },
   "source": [
    "###### In order to fit our model to the data, we need to process the tables first, and then split it into training and test sets.  \n",
    "* First, we started off by removing rows with no information in it. We then split the title feature into 3 different features (title1, title2, and title3) in order for our model to recognize patterns within the titles, for example splitting \"Senior Computer Engineer\" into \"Senior\", \"computer\", and \"engineer.\"\n",
    "* We then one hot encode the data, meaning turning the categorical features into 1s and 0s that our model can actually train on.  The final step is to do a random split in our data in order to get valid testing and training data. The data was randomly split so that 70% went to training the model and the other 30% was used for testing our model's accuracy. Keep in mind that the review data (realData.csv), unlike the data we used for our rules section (memberships.csv), was labeled as to whether we keep access to the given entitlement pairing or remove access.\n",
    "* We will run the model training and testing pipeline separately on both realData.csv and the unlabeled data used in the rules section. This is to show that the engineered trends in the memberships data are picked up by the model. For the unlabeled data, we generate negatives by creating random permutations of unique column values from the positive data (done in the generate_random_negatives function)"
   ]
  },
  {
   "cell_type": "code",
   "execution_count": 8,
   "metadata": {
    "collapsed": false
   },
   "outputs": [
   ],
   "source": [
    "def shrinker(df):\n",
    "    #prune cols that have no values\n",
    "    description = df.describe(include=\"all\")\n",
    "    description = description.transpose()\n",
    "    nonzero_df = df[description[description[\"count\"] > 0].index] \n",
    "    #prune cols comprised of only one value\n",
    "    non_redundant = []\n",
    "    for col in nonzero_df.columns.values:\n",
    "        if len(np.unique(nonzero_df[col].tolist())) > 1:\n",
    "            non_redundant.append(col)\n",
    "    return nonzero_df[non_redundant]"
   ]
  },
  {
   "cell_type": "code",
   "execution_count": 9,
   "metadata": {
    "collapsed": false
   },
   "outputs": [
   ],
   "source": [
    "def split_titles(mem_df):\n",
    "    mem_df['split_title'] = mem_df['parent.ilm_object.description'].str.split()\n",
    "    max_words = mem_df['split_title'].str.len().max()\n",
    "    mem_df['split_title'].apply(lambda x : (x.extend(['' for i in range(max_words - len(x))]) or x))\n",
    "    df1 = pd.DataFrame(mem_df['split_title'].to_list(), columns=['title' + str(i) for i in range(0, max_words)])\n",
    "    mem_df = pd.concat([mem_df, df1], axis = 1)\n",
    "    return mem_df"
   ]
  },
  {
   "cell_type": "code",
   "execution_count": 20,
   "metadata": {
    "collapsed": false
   },
   "outputs": [
   ],
   "source": [
    "def split_titles_mems(mem_df):\n",
    "    mem_df['split_title'] = mem_df['ilm_object.description'].str.split()\n",
    "    max_words = mem_df['split_title'].str.len().max()\n",
    "    mem_df['split_title'].apply(lambda x : (x.extend(['' for i in range(max_words - len(x))]) or x))\n",
    "    df1 = pd.DataFrame(mem_df['split_title'].to_list(), columns=['title' + str(i) for i in range(0, max_words)])\n",
    "    mem_df = pd.concat([mem_df, df1], axis = 1)\n",
    "    return mem_df"
   ]
  },
  {
   "cell_type": "code",
   "execution_count": 10,
   "metadata": {
    "collapsed": false
   },
   "outputs": [
   ],
   "source": [
    "def rearrange_columns(df):\n",
    "  colNames = list(df.columns.values)\n",
    "  colNames.pop(colNames.index('action'))\n",
    "  colNames.pop(colNames.index('ilm_object'))\n",
    "  return df[['ilm_object','action'] + colNames]"
   ]
  },
  {
   "cell_type": "code",
   "execution_count": 31,
   "metadata": {
    "collapsed": false
   },
   "outputs": [
   ],
   "source": [
    "def generate_random_negatives(df_clean):\n",
    "    df_length = df_clean.shape[0]\n",
    "    df_cross = df_clean.copy()\n",
    "    df_cross['action'] = np.full(df_length, 1)\n",
    "    df_dict = {}\n",
    "    for col, values in df_cross.iteritems():\n",
    "        if col == 'action':\n",
    "            df_dict[col] = np.full(df_length, 0)\n",
    "        else:\n",
    "            df_dict[col] = np.random.choice(np.unique(values.tolist()), size = df_length)\n",
    "    df_cross = df_cross.append(pd.DataFrame(df_dict))\n",
    "    return df_cross"
   ]
  },
  {
   "cell_type": "code",
   "execution_count": 32,
   "metadata": {
    "collapsed": false
   },
   "outputs": [
   ],
   "source": [
    "def one_hot_encoding_action(df):\n",
    "    OH_enc = OneHotEncoder()\n",
    "    X = OH_enc.fit_transform(df.drop(['action', 'ilm_object'], axis = 1))\n",
    "    y = df['action']\n",
    "    train_X, test_X, train_y, test_y = train_test_split(X, y, test_size=0.3, train_size=0.7, random_state=300)\n",
    "    return train_X, test_X, train_y, test_y, OH_enc"
   ]
  },
  {
   "cell_type": "code",
   "execution_count": 33,
   "metadata": {
    "collapsed": false
   },
   "outputs": [
   ],
   "source": [
    "def preprocessing(data):\n",
    "    mem_df = shrinker(data)\n",
    "    mem_df = split_titles(mem_df)\n",
    "    mem_df_clean = mem_df.fillna('')\n",
    "    mem_df_clean = rearrange_columns(mem_df_clean)\n",
    "    mem_df_clean.drop(\n",
    "        [\"parent.ilm_object.description\", \"parent\", \"split_title\"],\n",
    "        axis=1,\n",
    "        inplace=True)\n",
    "    mem_df_clean.rename(columns={\n",
    "        \"parent.ilm_object.ref_x_cls_clear_skye_i_account.department\":\n",
    "        \"department\",\n",
    "        \"parent.ilm_object.ref_x_cls_clear_skye_i_account.office\":\n",
    "        \"office\"\n",
    "    },\n",
    "                        inplace=True)\n",
    "    mem_df_clean[\"action\"] = mem_df_clean[\"action\"].apply(\n",
    "        lambda x: 1 if x == \"Keep Access\" else 0)\n",
    "    train_X, test_X, train_y, test_y, encoder = one_hot_encoding_action(\n",
    "        mem_df_clean)\n",
    "    return mem_df_clean, train_X, test_X, train_y, test_y, encoder"
   ]
  },
  {
   "cell_type": "code",
   "execution_count": 93,
   "metadata": {
    "collapsed": false
   },
   "outputs": [
   ],
   "source": [
    "#Preprocessing pipeline specifically for memberships_df.\n",
    "\n",
    "def preprocessing_mems(data):\n",
    "    mem_df = shrinker(data)\n",
    "    mem_df = split_titles_mems(mem_df)\n",
    "    mem_df_clean = mem_df.fillna('')\n",
    "    mem_df_clean.drop([\"ilm_object.description\", \"split_title\", \"group.description\", \"group\", \"group.name\", \"ilm_object.name\", \"group_str\", \"ilm_object_str\", \"object_id\", \"group.source\", \"sys_created_on\", \"sys_updated_on\"],axis=1,inplace=True)\n",
    "    mem_df_clean.rename(columns={\n",
    "        \"ilm_object.ref_x_cls_clear_skye_i_account.department\":\n",
    "        \"department\",\n",
    "        \"ilm_object.ref_x_cls_clear_skye_i_account.office\":\n",
    "        \"office\"\n",
    "    },\n",
    "                        inplace=True)\n",
    "    mem_df_clean = generate_random_negatives(mem_df_clean)\n",
    "    train_X, test_X, train_y, test_y, encoder = one_hot_encoding_action(\n",
    "        mem_df_clean)\n",
    "    return mem_df_clean, train_X, test_X, train_y, test_y, encoder"
   ]
  },
  {
   "cell_type": "markdown",
   "metadata": {
    "collapsed": false
   },
   "source": [
    "### Load Data Here (For the user To enter) "
   ]
  },
  {
   "cell_type": "code",
   "execution_count": 87,
   "metadata": {
    "collapsed": false
   },
   "outputs": [
    {
     "data": {
      "text/html": [
       "<div>\n",
       "<style scoped>\n",
       "    .dataframe tbody tr th:only-of-type {\n",
       "        vertical-align: middle;\n",
       "    }\n",
       "\n",
       "    .dataframe tbody tr th {\n",
       "        vertical-align: top;\n",
       "    }\n",
       "\n",
       "    .dataframe thead th {\n",
       "        text-align: right;\n",
       "    }\n",
       "</style>\n",
       "<table border=\"1\" class=\"dataframe\">\n",
       "  <thead>\n",
       "    <tr style=\"text-align: right;\">\n",
       "      <th></th>\n",
       "      <th>ilm_object</th>\n",
       "      <th>action</th>\n",
       "      <th>department</th>\n",
       "      <th>office</th>\n",
       "      <th>title0</th>\n",
       "      <th>title1</th>\n",
       "      <th>title2</th>\n",
       "      <th>title3</th>\n",
       "    </tr>\n",
       "  </thead>\n",
       "  <tbody>\n",
       "    <tr>\n",
       "      <th>0</th>\n",
       "      <td>All Sales Users</td>\n",
       "      <td>1</td>\n",
       "      <td>Sales</td>\n",
       "      <td>Emeryville</td>\n",
       "      <td>Chief</td>\n",
       "      <td>Technician</td>\n",
       "      <td>Manager</td>\n",
       "      <td></td>\n",
       "    </tr>\n",
       "    <tr>\n",
       "      <th>1</th>\n",
       "      <td>All Sales Users</td>\n",
       "      <td>0</td>\n",
       "      <td>Sales</td>\n",
       "      <td>Fremont</td>\n",
       "      <td>Junior</td>\n",
       "      <td>Consultant</td>\n",
       "      <td>Normal</td>\n",
       "      <td></td>\n",
       "    </tr>\n",
       "    <tr>\n",
       "      <th>2</th>\n",
       "      <td>All Legal Department Users</td>\n",
       "      <td>1</td>\n",
       "      <td>Legal Department</td>\n",
       "      <td>Milpitas</td>\n",
       "      <td>Principal</td>\n",
       "      <td>Fellow</td>\n",
       "      <td>Employee</td>\n",
       "      <td></td>\n",
       "    </tr>\n",
       "    <tr>\n",
       "      <th>3</th>\n",
       "      <td>All Legal Department Users</td>\n",
       "      <td>1</td>\n",
       "      <td>Legal Department</td>\n",
       "      <td>Redmond</td>\n",
       "      <td>Junior</td>\n",
       "      <td>Coordinator</td>\n",
       "      <td>Employee</td>\n",
       "      <td></td>\n",
       "    </tr>\n",
       "    <tr>\n",
       "      <th>4</th>\n",
       "      <td>All Legal Department Users</td>\n",
       "      <td>1</td>\n",
       "      <td>Legal Department</td>\n",
       "      <td>Orem</td>\n",
       "      <td>Junior</td>\n",
       "      <td>President</td>\n",
       "      <td>Contract</td>\n",
       "      <td></td>\n",
       "    </tr>\n",
       "    <tr>\n",
       "      <th>...</th>\n",
       "      <td>...</td>\n",
       "      <td>...</td>\n",
       "      <td>...</td>\n",
       "      <td>...</td>\n",
       "      <td>...</td>\n",
       "      <td>...</td>\n",
       "      <td>...</td>\n",
       "      <td>...</td>\n",
       "    </tr>\n",
       "    <tr>\n",
       "      <th>49894</th>\n",
       "      <td>All Product Testing Users</td>\n",
       "      <td>1</td>\n",
       "      <td>Product Testing</td>\n",
       "      <td>Emeryville</td>\n",
       "      <td>Chief</td>\n",
       "      <td>Admin</td>\n",
       "      <td>Contract</td>\n",
       "      <td></td>\n",
       "    </tr>\n",
       "    <tr>\n",
       "      <th>49895</th>\n",
       "      <td>All Sales Users</td>\n",
       "      <td>0</td>\n",
       "      <td>Sales</td>\n",
       "      <td>Fremont</td>\n",
       "      <td>Senior</td>\n",
       "      <td>Inspector</td>\n",
       "      <td>Manager</td>\n",
       "      <td></td>\n",
       "    </tr>\n",
       "    <tr>\n",
       "      <th>49896</th>\n",
       "      <td>All Product Testing Users</td>\n",
       "      <td>0</td>\n",
       "      <td>Product Testing</td>\n",
       "      <td>Cupertino</td>\n",
       "      <td>Associate</td>\n",
       "      <td>Visionary</td>\n",
       "      <td>Contract</td>\n",
       "      <td></td>\n",
       "    </tr>\n",
       "    <tr>\n",
       "      <th>49897</th>\n",
       "      <td>All Product Testing Users</td>\n",
       "      <td>0</td>\n",
       "      <td>Product Testing</td>\n",
       "      <td>Abuja</td>\n",
       "      <td>Master</td>\n",
       "      <td>Manager</td>\n",
       "      <td>Normal</td>\n",
       "      <td></td>\n",
       "    </tr>\n",
       "    <tr>\n",
       "      <th>49898</th>\n",
       "      <td>All IT Users</td>\n",
       "      <td>0</td>\n",
       "      <td>IT</td>\n",
       "      <td>San Francisco</td>\n",
       "      <td>Elite</td>\n",
       "      <td>Developer</td>\n",
       "      <td>Manager</td>\n",
       "      <td></td>\n",
       "    </tr>\n",
       "  </tbody>\n",
       "</table>\n",
       "<p>49899 rows × 8 columns</p>\n",
       "</div>"
      ],
      "text/plain": [
       "                       ilm_object  action        department         office  \\\n",
       "0                 All Sales Users       1             Sales     Emeryville   \n",
       "1                 All Sales Users       0             Sales        Fremont   \n",
       "2      All Legal Department Users       1  Legal Department       Milpitas   \n",
       "3      All Legal Department Users       1  Legal Department        Redmond   \n",
       "4      All Legal Department Users       1  Legal Department           Orem   \n",
       "...                           ...     ...               ...            ...   \n",
       "49894   All Product Testing Users       1   Product Testing     Emeryville   \n",
       "49895             All Sales Users       0             Sales        Fremont   \n",
       "49896   All Product Testing Users       0   Product Testing      Cupertino   \n",
       "49897   All Product Testing Users       0   Product Testing          Abuja   \n",
       "49898                All IT Users       0                IT  San Francisco   \n",
       "\n",
       "          title0       title1    title2 title3  \n",
       "0          Chief   Technician   Manager         \n",
       "1         Junior   Consultant    Normal         \n",
       "2      Principal       Fellow  Employee         \n",
       "3         Junior  Coordinator  Employee         \n",
       "4         Junior    President  Contract         \n",
       "...          ...          ...       ...    ...  \n",
       "49894      Chief        Admin  Contract         \n",
       "49895     Senior    Inspector   Manager         \n",
       "49896  Associate    Visionary  Contract         \n",
       "49897     Master      Manager    Normal         \n",
       "49898      Elite    Developer   Manager         \n",
       "\n",
       "[49899 rows x 8 columns]"
      ]
     },
     "execution_count": 87,
     "metadata": {
     },
     "output_type": "execute_result"
    }
   ],
   "source": [
    "#load in your data (Currently working with the review data)\n",
    "review_data = pd.read_csv('realData.csv')\n",
    "#RUN PREPROCESSING FUNCTION ON YOUR DATA\n",
    "preprocessed_data, train_X, test_X, train_y, test_y, encoder = preprocessing(review_data)\n",
    "preprocessed_data"
   ]
  },
  {
   "cell_type": "markdown",
   "metadata": {
    "collapsed": false
   },
   "source": [
    "# Cleaning the Model Data (Randomly Generated Negative Data)"
   ]
  },
  {
   "cell_type": "markdown",
   "metadata": {
    "collapsed": false
   },
   "source": [
    "###### We followed the same preprocessing steps for the membership dataset with the randomly generated negative data with a few exceptions.  \n",
    "* The one exception (between the data cleaning for the reviewed dataset and the membership dataset) was that we randomly generated half of the rows (10,000 for this particular dataset) to have a fit of 0, meaning that the given account should not have access to the given entitlement. To generate these negative rows, we basically took random permutations of the values in each column and assigned that random permutation to an account/IGA object, which we added as a row to the dataset. Since we generated 10,000 accounts with a negative mapping to their respective entitlements, 10,000 rows were added. "
   ]
  },
  {
   "cell_type": "code",
   "execution_count": 94,
   "metadata": {
    "collapsed": false
   },
   "outputs": [
    {
     "data": {
      "text/html": [
       "<div>\n",
       "<style scoped>\n",
       "    .dataframe tbody tr th:only-of-type {\n",
       "        vertical-align: middle;\n",
       "    }\n",
       "\n",
       "    .dataframe tbody tr th {\n",
       "        vertical-align: top;\n",
       "    }\n",
       "\n",
       "    .dataframe thead th {\n",
       "        text-align: right;\n",
       "    }\n",
       "</style>\n",
       "<table border=\"1\" class=\"dataframe\">\n",
       "  <thead>\n",
       "    <tr style=\"text-align: right;\">\n",
       "      <th></th>\n",
       "      <th>ilm_object</th>\n",
       "      <th>department</th>\n",
       "      <th>office</th>\n",
       "      <th>title0</th>\n",
       "      <th>title1</th>\n",
       "      <th>title2</th>\n",
       "      <th>title3</th>\n",
       "      <th>action</th>\n",
       "    </tr>\n",
       "  </thead>\n",
       "  <tbody>\n",
       "    <tr>\n",
       "      <th>0</th>\n",
       "      <td>RozalinPas</td>\n",
       "      <td>Accounting</td>\n",
       "      <td>Fremont</td>\n",
       "      <td>Master</td>\n",
       "      <td>Fellow</td>\n",
       "      <td>Manager</td>\n",
       "      <td></td>\n",
       "      <td>1</td>\n",
       "    </tr>\n",
       "    <tr>\n",
       "      <th>1</th>\n",
       "      <td>ThaliaLaw</td>\n",
       "      <td>Sales</td>\n",
       "      <td>Alameda</td>\n",
       "      <td>Junior</td>\n",
       "      <td>Sales</td>\n",
       "      <td>Rep</td>\n",
       "      <td>Manager</td>\n",
       "      <td>1</td>\n",
       "    </tr>\n",
       "    <tr>\n",
       "      <th>2</th>\n",
       "      <td>LazloZau</td>\n",
       "      <td>Accounting</td>\n",
       "      <td>Milpitas</td>\n",
       "      <td>Master</td>\n",
       "      <td>Admin</td>\n",
       "      <td>Normal</td>\n",
       "      <td></td>\n",
       "      <td>1</td>\n",
       "    </tr>\n",
       "    <tr>\n",
       "      <th>3</th>\n",
       "      <td>StarletGio</td>\n",
       "      <td>Accounting</td>\n",
       "      <td>Alameda</td>\n",
       "      <td>Master</td>\n",
       "      <td>Fellow</td>\n",
       "      <td>Employee</td>\n",
       "      <td></td>\n",
       "      <td>1</td>\n",
       "    </tr>\n",
       "    <tr>\n",
       "      <th>4</th>\n",
       "      <td>KhalilMul</td>\n",
       "      <td>Marketing</td>\n",
       "      <td>San Francisco</td>\n",
       "      <td>Master</td>\n",
       "      <td>Vice</td>\n",
       "      <td>President</td>\n",
       "      <td>Employee</td>\n",
       "      <td>1</td>\n",
       "    </tr>\n",
       "    <tr>\n",
       "      <th>...</th>\n",
       "      <td>...</td>\n",
       "      <td>...</td>\n",
       "      <td>...</td>\n",
       "      <td>...</td>\n",
       "      <td>...</td>\n",
       "      <td>...</td>\n",
       "      <td>...</td>\n",
       "      <td>...</td>\n",
       "    </tr>\n",
       "    <tr>\n",
       "      <th>9995</th>\n",
       "      <td>FrancoisFul</td>\n",
       "      <td>Legal Department</td>\n",
       "      <td>Cambridge</td>\n",
       "      <td>Senior</td>\n",
       "      <td>Director</td>\n",
       "      <td>President</td>\n",
       "      <td>Normal</td>\n",
       "      <td>0</td>\n",
       "    </tr>\n",
       "    <tr>\n",
       "      <th>9996</th>\n",
       "      <td>AmandaEsr</td>\n",
       "      <td>Management</td>\n",
       "      <td>Dresden</td>\n",
       "      <td>Grp_0153485_glo_dist</td>\n",
       "      <td>Inspector</td>\n",
       "      <td>President</td>\n",
       "      <td></td>\n",
       "      <td>0</td>\n",
       "    </tr>\n",
       "    <tr>\n",
       "      <th>9997</th>\n",
       "      <td>BrekelHat</td>\n",
       "      <td>Administrative</td>\n",
       "      <td></td>\n",
       "      <td>Associate</td>\n",
       "      <td>Accountant</td>\n",
       "      <td>Normal</td>\n",
       "      <td>Employee</td>\n",
       "      <td>0</td>\n",
       "    </tr>\n",
       "    <tr>\n",
       "      <th>9998</th>\n",
       "      <td>MeadeKut</td>\n",
       "      <td>Legal Department</td>\n",
       "      <td>Abuja</td>\n",
       "      <td>Grp_0069055_glo_dist</td>\n",
       "      <td>Auditor</td>\n",
       "      <td>Rep</td>\n",
       "      <td>Employee</td>\n",
       "      <td>0</td>\n",
       "    </tr>\n",
       "    <tr>\n",
       "      <th>9999</th>\n",
       "      <td>AgataFra</td>\n",
       "      <td>Media Relations</td>\n",
       "      <td>Emeryville</td>\n",
       "      <td>Grp_0705213_glo_dist</td>\n",
       "      <td>Fellow</td>\n",
       "      <td>Normal</td>\n",
       "      <td></td>\n",
       "      <td>0</td>\n",
       "    </tr>\n",
       "  </tbody>\n",
       "</table>\n",
       "<p>20000 rows × 8 columns</p>\n",
       "</div>"
      ],
      "text/plain": [
       "       ilm_object        department         office                title0  \\\n",
       "0      RozalinPas        Accounting        Fremont                Master   \n",
       "1       ThaliaLaw             Sales        Alameda                Junior   \n",
       "2        LazloZau        Accounting       Milpitas                Master   \n",
       "3      StarletGio        Accounting        Alameda                Master   \n",
       "4       KhalilMul         Marketing  San Francisco                Master   \n",
       "...           ...               ...            ...                   ...   \n",
       "9995  FrancoisFul  Legal Department      Cambridge                Senior   \n",
       "9996    AmandaEsr        Management        Dresden  Grp_0153485_glo_dist   \n",
       "9997    BrekelHat    Administrative                            Associate   \n",
       "9998     MeadeKut  Legal Department          Abuja  Grp_0069055_glo_dist   \n",
       "9999     AgataFra   Media Relations     Emeryville  Grp_0705213_glo_dist   \n",
       "\n",
       "          title1     title2    title3  action  \n",
       "0         Fellow    Manager                 1  \n",
       "1          Sales        Rep   Manager       1  \n",
       "2          Admin     Normal                 1  \n",
       "3         Fellow   Employee                 1  \n",
       "4           Vice  President  Employee       1  \n",
       "...          ...        ...       ...     ...  \n",
       "9995    Director  President    Normal       0  \n",
       "9996   Inspector  President                 0  \n",
       "9997  Accountant     Normal  Employee       0  \n",
       "9998     Auditor        Rep  Employee       0  \n",
       "9999      Fellow     Normal                 0  \n",
       "\n",
       "[20000 rows x 8 columns]"
      ]
     },
     "execution_count": 94,
     "metadata": {
     },
     "output_type": "execute_result"
    }
   ],
   "source": [
    "#load in your data (Currently working with the memberships/randomly generated negative data)\n",
    "memberships_data = pd.read_csv('memberships.csv')\n",
    "#RUN PREPROCESSING FUNCTION ON YOUR DATA\n",
    "preprocessed_mecmberships_data, train_memberships_X, test_memberships_X, train_memberships_y, test_memberships_y, encoder_memberships = preprocessing_mems(memberships_data)\n",
    "preprocessed_memberships_data"
   ]
  },
  {
   "cell_type": "markdown",
   "metadata": {
    "collapsed": false
   },
   "source": [
    "# Our Models"
   ]
  },
  {
   "cell_type": "markdown",
   "metadata": {
    "collapsed": false
   },
   "source": [
    "## Logistic Regression"
   ]
  },
  {
   "cell_type": "markdown",
   "metadata": {
    "collapsed": false
   },
   "source": [
    "###### Logistic Regression is a simple machine learning model that optimizes an equation in order to get the best predictions for a classifier.  \n",
    "<br />\n",
    "\n",
    "- While the actual math is too much to cover here, it basically takes a logistic equation and optimizes the coefficients in order to get the highest accuracy.\n",
    "\n",
    "- An important statistic of the model to look at is accuracy and number of true positives, true negatives, false positives, and false negatives which can tell you how the model works with the data."
   ]
  },
  {
   "cell_type": "code",
   "execution_count": 37,
   "metadata": {
    "collapsed": false
   },
   "outputs": [
   ],
   "source": [
    "# Imports\n",
    "\n",
    "from sklearn.linear_model import LogisticRegression\n",
    "from sklearn.metrics import classification_report, confusion_matrix, accuracy_score, f1_score\n",
    "from sklearn.model_selection import GridSearchCV\n",
    "from sklearn.pipeline import Pipeline"
   ]
  },
  {
   "cell_type": "code",
   "execution_count": 38,
   "metadata": {
    "collapsed": false
   },
   "outputs": [
   ],
   "source": [
    "# Logistic Regression Model\n",
    "def train_log_reg_model(train_X, train_y, test_X, test_y):\n",
    "    logreg = LogisticRegression(random_state=88)\n",
    "    # train the logistic regression model\n",
    "    logreg.fit(train_X, train_y)\n",
    "    # print logistic regression model performance\n",
    "    prob_y = logreg.predict_proba(test_X)\n",
    "    pred_y = pd.Series([1 if x > 0.5 else 0 for x in prob_y[:,1]], index=test_y.index)\n",
    "    cm = confusion_matrix(test_y, pred_y)\n",
    "    print (\"\\nAccuracy:\", accuracy_score(test_y, pred_y))\n",
    "    print (\"Confusion Matrix: \\n\", cm)"
   ]
  },
  {
   "cell_type": "code",
   "execution_count": 76,
   "metadata": {
    "collapsed": false
   },
   "outputs": [
    {
     "name": "stdout",
     "output_type": "stream",
     "text": [
      "\n",
      "Accuracy: 0.4989311957247829\n",
      "Confusion Matrix: \n",
      " [[3641 3781]\n",
      " [3720 3828]]\n"
     ]
    }
   ],
   "source": [
    "#For reviewed dataset\n",
    "train_log_reg_model(train_X, train_y, test_X, test_y) "
   ]
  },
  {
   "cell_type": "code",
   "execution_count": 95,
   "metadata": {
    "collapsed": false
   },
   "outputs": [
    {
     "name": "stdout",
     "output_type": "stream",
     "text": [
      "\n",
      "Accuracy: 0.9675\n",
      "Confusion Matrix: \n",
      " [[2876  115]\n",
      " [  80 2929]]\n"
     ]
    }
   ],
   "source": [
    "#For memberships/randomly generated negative rows dataset\n",
    "train_log_reg_model(train_memberships_X, train_memberships_y, test_memberships_X, test_memberships_y)"
   ]
  },
  {
   "attachments": {
    "1_fxitnigoyvaombpjx5kgea.png": {
     "image/png": "[encoded data removed]"
    },
    "image%20%281%29.png": {
     "image/png": "[encoded data removed]"
    }
   },
   "cell_type": "markdown",
   "metadata": {
    "collapsed": false
   },
   "source": [
    "##### Confusion Matrix Visual Example\n",
    "<img src=\"attachment:image%20%281%29.png\" width=\"300\" height=\"300\">"
   ]
  },
  {
   "cell_type": "markdown",
   "metadata": {
    "collapsed": false
   },
   "source": [
    "## Random Forest"
   ]
  },
  {
   "cell_type": "markdown",
   "metadata": {
    "collapsed": false
   },
   "source": [
    "###### A random forest model is a made up of a group of decision trees which all are trained on random features of the dataset, which gives the name random forest. \n",
    "<br />\n",
    "\n",
    "- Each decision tree takes in its randomly selected training data, trains on that data, and outputs a result for a given prediction. \n",
    "\n",
    "- The model then outputs the result that a majority of the decision trees came to, which helps prevent overfitting (a major obstacle that comes from using single decision trees)."
   ]
  },
  {
   "cell_type": "code",
   "execution_count": 42,
   "metadata": {
    "collapsed": false
   },
   "outputs": [
   ],
   "source": [
    "from sklearn.ensemble import RandomForestClassifier"
   ]
  },
  {
   "cell_type": "code",
   "execution_count": 43,
   "metadata": {
    "collapsed": false
   },
   "outputs": [
   ],
   "source": [
    "def train_random_forest_model(train_X, train_y, test_X, test_y):\n",
    "    # train the random forest model\n",
    "    forest_model = RandomForestClassifier()\n",
    "    forest_model.fit(train_X, train_y)\n",
    "\n",
    "    # print random forest model performance\n",
    "    pred_y = forest_model.predict(test_X)\n",
    "    cm = confusion_matrix(test_y, pred_y)\n",
    "    print (\"\\nAccuracy:\", accuracy_score(test_y, pred_y))\n",
    "    print (\"Confusion Matrix: \\n\", cm)\n",
    "    return forest_model\n"
   ]
  },
  {
   "cell_type": "code",
   "execution_count": 44,
   "metadata": {
    "collapsed": false,
    "scrolled": true
   },
   "outputs": [
    {
     "name": "stdout",
     "output_type": "stream",
     "text": [
      "\n",
      "Accuracy: 0.5106880427521711\n",
      "Confusion Matrix: \n",
      " [[3768 3654]\n",
      " [3671 3877]]\n"
     ]
    }
   ],
   "source": [
    "#Random Forest trained on review data\n",
    "\n",
    "forest_model = train_random_forest_model(train_X, train_y, test_X, test_y)"
   ]
  },
  {
   "cell_type": "code",
   "execution_count": 96,
   "metadata": {
    "collapsed": false
   },
   "outputs": [
    {
     "name": "stdout",
     "output_type": "stream",
     "text": [
      "\n",
      "Accuracy: 0.978\n",
      "Confusion Matrix: \n",
      " [[2912   79]\n",
      " [  53 2956]]\n"
     ]
    }
   ],
   "source": [
    "#Random Forest trained on unlabeled data with randomly generated negatives\n",
    "\n",
    "forest_model_mems = train_random_forest_model(train_memberships_X, train_memberships_y, test_memberships_X, test_memberships_y)"
   ]
  },
  {
   "cell_type": "markdown",
   "metadata": {
    "collapsed": false
   },
   "source": [
    "## Feature Importance"
   ]
  },
  {
   "cell_type": "markdown",
   "metadata": {
    "collapsed": false
   },
   "source": [
    "###### An interesting attribute of the random forest model is its feature importance.  Through this attribute, the model will display the relative weights it attributes to each feature.\n",
    "- For example, with the given sample data the office had the most weight, which means that the office feature of the dataset had the greatest effect on the random forest model's prediction (whether the account-entitlement pairing should be accepted)"
   ]
  },
  {
   "cell_type": "code",
   "execution_count": 55,
   "metadata": {
    "collapsed": false
   },
   "outputs": [
   ],
   "source": [
    "def getRF_FeatureImportance(model, encoder):\n",
    "  # Map feature Importance from encoder features to column names\n",
    "  importance = model.feature_importances_\n",
    "  feature_names = encoder.get_feature_names()\n",
    "  x_Importance, feature_Importance, curString = {}, {}, 'x'\n",
    "  for i,v in enumerate(importance):\n",
    "    featureName = feature_names[i]\n",
    "    if curString != featureName[0:2]:\n",
    "      curString = featureName[0:2]\n",
    "      x_Importance[curString] = 0\n",
    "    x_Importance[curString] += v\n",
    "\n",
    "\n",
    "  columnNames, keys = preprocessed_data.columns[2:], list(x_Importance.keys())\n",
    "  for i in range(0, len(x_Importance)):\n",
    "    feature_Importance[columnNames[i]] = x_Importance[keys[i]]\n",
    "  return feature_Importance"
   ]
  },
  {
   "cell_type": "code",
   "execution_count": 30,
   "metadata": {
    "collapsed": false
   },
   "outputs": [
    {
     "data": {
      "text/plain": [
       "{'department': 0.10472274587240142,\n",
       " 'office': 0.33249147058703316,\n",
       " 'title0': 0.19621611374669323,\n",
       " 'title1': 0.26645016926280196,\n",
       " 'title2': 0.07864308542910356,\n",
       " 'title3': 0.021476415101966684}"
      ]
     },
     "execution_count": 30,
     "metadata": {
     },
     "output_type": "execute_result"
    }
   ],
   "source": [
    "#Get feature importance for model created from reviewed data\n",
    "getRF_FeatureImportance(forest_model, encoder) "
   ]
  },
  {
   "cell_type": "code",
   "execution_count": 97,
   "metadata": {
    "collapsed": false
   },
   "outputs": [
    {
     "data": {
      "text/plain": [
       "{'department': 0.3461312414142374,\n",
       " 'office': 0.059657894270183656,\n",
       " 'title0': 0.10281410945234286,\n",
       " 'title1': 0.08209045095160848,\n",
       " 'title2': 0.09927881691147208,\n",
       " 'title3': 0.31002748700015553}"
      ]
     },
     "execution_count": 97,
     "metadata": {
     },
     "output_type": "execute_result"
    }
   ],
   "source": [
    "#Get feature importance for model created from randomly generated negative data\n",
    "getRF_FeatureImportance(forest_model_mems, encoder_memberships)"
   ]
  },
  {
   "cell_type": "markdown",
   "metadata": {
    "collapsed": false
   },
   "source": [
    "## Cross Validation Example"
   ]
  },
  {
   "cell_type": "markdown",
   "metadata": {
    "collapsed": false
   },
   "source": [
    "###### Cross validation (CV) is the process of finding the best parameters for our model.\n",
    "<br />\n",
    "\n",
    "- In CV, a model is tested with various different parameters in order to find the one with the best accuracy.  For each parameter, the data is split into 5 different folds and each fold is trained separately.  The average accuracy across the folds is the overall accuracy for the current parameter.\n",
    "\n",
    "- In this case, we trained a new random forest classifier while testing different numbers of max features.  We used 5 splits, or folds, for each max feature. "
   ]
  },
  {
   "cell_type": "code",
   "execution_count": 77,
   "metadata": {
    "collapsed": false
   },
   "outputs": [
    {
     "name": "stdout",
     "output_type": "stream",
     "text": [
      "Fitting 5 folds for each of 7 candidates, totalling 35 fits\n"
     ]
    },
    {
     "name": "stdout",
     "output_type": "stream",
     "text": [
      "[CV] END max_features=1, min_samples_leaf=5, n_estimators=500, random_state=88; total time=  18.0s\n"
     ]
    },
    {
     "name": "stdout",
     "output_type": "stream",
     "text": [
      "[CV] END max_features=1, min_samples_leaf=5, n_estimators=500, random_state=88; total time=  22.4s\n"
     ]
    },
    {
     "name": "stdout",
     "output_type": "stream",
     "text": [
      "[CV] END max_features=1, min_samples_leaf=5, n_estimators=500, random_state=88; total time=  15.9s\n"
     ]
    },
    {
     "name": "stdout",
     "output_type": "stream",
     "text": [
      "[CV] END max_features=1, min_samples_leaf=5, n_estimators=500, random_state=88; total time=  15.9s\n"
     ]
    },
    {
     "name": "stdout",
     "output_type": "stream",
     "text": [
      "[CV] END max_features=1, min_samples_leaf=5, n_estimators=500, random_state=88; total time=  15.9s\n"
     ]
    },
    {
     "name": "stdout",
     "output_type": "stream",
     "text": [
      "[CV] END max_features=2, min_samples_leaf=5, n_estimators=500, random_state=88; total time=  21.7s\n"
     ]
    },
    {
     "name": "stdout",
     "output_type": "stream",
     "text": [
      "[CV] END max_features=2, min_samples_leaf=5, n_estimators=500, random_state=88; total time=  24.6s\n"
     ]
    },
    {
     "name": "stdout",
     "output_type": "stream",
     "text": [
      "[CV] END max_features=2, min_samples_leaf=5, n_estimators=500, random_state=88; total time=  21.3s\n"
     ]
    },
    {
     "name": "stdout",
     "output_type": "stream",
     "text": [
      "[CV] END max_features=2, min_samples_leaf=5, n_estimators=500, random_state=88; total time=  21.8s\n"
     ]
    },
    {
     "name": "stdout",
     "output_type": "stream",
     "text": [
      "[CV] END max_features=2, min_samples_leaf=5, n_estimators=500, random_state=88; total time=  21.4s\n"
     ]
    },
    {
     "name": "stdout",
     "output_type": "stream",
     "text": [
      "[CV] END max_features=3, min_samples_leaf=5, n_estimators=500, random_state=88; total time=  25.4s\n"
     ]
    },
    {
     "name": "stdout",
     "output_type": "stream",
     "text": [
      "[CV] END max_features=3, min_samples_leaf=5, n_estimators=500, random_state=88; total time=  28.1s\n"
     ]
    },
    {
     "name": "stdout",
     "output_type": "stream",
     "text": [
      "[CV] END max_features=3, min_samples_leaf=5, n_estimators=500, random_state=88; total time=  25.3s\n"
     ]
    },
    {
     "name": "stdout",
     "output_type": "stream",
     "text": [
      "[CV] END max_features=3, min_samples_leaf=5, n_estimators=500, random_state=88; total time=  26.3s\n"
     ]
    },
    {
     "name": "stdout",
     "output_type": "stream",
     "text": [
      "[CV] END max_features=3, min_samples_leaf=5, n_estimators=500, random_state=88; total time=  26.0s\n"
     ]
    },
    {
     "name": "stdout",
     "output_type": "stream",
     "text": [
      "[CV] END max_features=4, min_samples_leaf=5, n_estimators=500, random_state=88; total time=  29.6s\n"
     ]
    },
    {
     "name": "stdout",
     "output_type": "stream",
     "text": [
      "[CV] END max_features=4, min_samples_leaf=5, n_estimators=500, random_state=88; total time=  32.2s\n"
     ]
    },
    {
     "name": "stdout",
     "output_type": "stream",
     "text": [
      "[CV] END max_features=4, min_samples_leaf=5, n_estimators=500, random_state=88; total time=  29.6s\n"
     ]
    },
    {
     "name": "stdout",
     "output_type": "stream",
     "text": [
      "[CV] END max_features=4, min_samples_leaf=5, n_estimators=500, random_state=88; total time=  31.8s\n"
     ]
    },
    {
     "name": "stdout",
     "output_type": "stream",
     "text": [
      "[CV] END max_features=4, min_samples_leaf=5, n_estimators=500, random_state=88; total time=  31.6s\n"
     ]
    },
    {
     "name": "stdout",
     "output_type": "stream",
     "text": [
      "[CV] END max_features=5, min_samples_leaf=5, n_estimators=500, random_state=88; total time=  37.3s\n"
     ]
    },
    {
     "name": "stdout",
     "output_type": "stream",
     "text": [
      "[CV] END max_features=5, min_samples_leaf=5, n_estimators=500, random_state=88; total time=  37.2s\n"
     ]
    },
    {
     "name": "stdout",
     "output_type": "stream",
     "text": [
      "[CV] END max_features=5, min_samples_leaf=5, n_estimators=500, random_state=88; total time=  36.1s\n"
     ]
    },
    {
     "name": "stdout",
     "output_type": "stream",
     "text": [
      "[CV] END max_features=5, min_samples_leaf=5, n_estimators=500, random_state=88; total time=  35.1s\n"
     ]
    },
    {
     "name": "stdout",
     "output_type": "stream",
     "text": [
      "[CV] END max_features=5, min_samples_leaf=5, n_estimators=500, random_state=88; total time=  35.8s\n"
     ]
    },
    {
     "name": "stdout",
     "output_type": "stream",
     "text": [
      "[CV] END max_features=6, min_samples_leaf=5, n_estimators=500, random_state=88; total time=  39.4s\n"
     ]
    },
    {
     "name": "stdout",
     "output_type": "stream",
     "text": [
      "[CV] END max_features=6, min_samples_leaf=5, n_estimators=500, random_state=88; total time=  43.1s\n"
     ]
    },
    {
     "name": "stdout",
     "output_type": "stream",
     "text": [
      "[CV] END max_features=6, min_samples_leaf=5, n_estimators=500, random_state=88; total time=  40.8s\n"
     ]
    },
    {
     "name": "stdout",
     "output_type": "stream",
     "text": [
      "[CV] END max_features=6, min_samples_leaf=5, n_estimators=500, random_state=88; total time=  42.8s\n"
     ]
    },
    {
     "name": "stdout",
     "output_type": "stream",
     "text": [
      "[CV] END max_features=6, min_samples_leaf=5, n_estimators=500, random_state=88; total time=  41.5s\n"
     ]
    },
    {
     "name": "stdout",
     "output_type": "stream",
     "text": [
      "[CV] END max_features=7, min_samples_leaf=5, n_estimators=500, random_state=88; total time=  45.6s\n"
     ]
    },
    {
     "name": "stdout",
     "output_type": "stream",
     "text": [
      "[CV] END max_features=7, min_samples_leaf=5, n_estimators=500, random_state=88; total time=  48.5s\n"
     ]
    },
    {
     "name": "stdout",
     "output_type": "stream",
     "text": [
      "[CV] END max_features=7, min_samples_leaf=5, n_estimators=500, random_state=88; total time=  45.9s\n"
     ]
    },
    {
     "name": "stdout",
     "output_type": "stream",
     "text": [
      "[CV] END max_features=7, min_samples_leaf=5, n_estimators=500, random_state=88; total time=  44.9s\n"
     ]
    },
    {
     "name": "stdout",
     "output_type": "stream",
     "text": [
      "[CV] END max_features=7, min_samples_leaf=5, n_estimators=500, random_state=88; total time=  46.4s\n"
     ]
    }
   ],
   "source": [
    "from sklearn.model_selection import KFold\n",
    "grid_values = {'max_features': np.linspace(1,7,7, dtype='int32'), 'min_samples_leaf':[5],'n_estimators':[500], 'random_state':[88]}\n",
    "\n",
    "rfc = RandomForestClassifier()\n",
    "cv = KFold(n_splits=5,random_state=333,shuffle=True) \n",
    "rfc_cv = GridSearchCV(rfc, param_grid=grid_values, scoring='accuracy', cv=cv, verbose=2).fit(train_X,train_y)"
   ]
  },
  {
   "cell_type": "code",
   "execution_count": 83,
   "metadata": {
    "collapsed": false
   },
   "outputs": [
    {
     "name": "stdout",
     "output_type": "stream",
     "text": [
      "\n",
      "Accuracy: 0.5032064128256513\n",
      "Confusion Matrix: \n",
      " [[3657 3765]\n",
      " [3672 3876]]\n"
     ]
    }
   ],
   "source": [
    "rfc_cv.best_estimator_.get_params()\n",
    "prob_y = rfc_cv.predict_proba(test_X)\n",
    "pred_y = pd.Series([1 if x > 0.5 else 0 for x in prob_y[:,1]], index=test_y.index)\n",
    "cm = confusion_matrix(test_y, pred_y)\n",
    "print (\"\\nAccuracy:\", accuracy_score(test_y, pred_y))\n",
    "print (\"Confusion Matrix: \\n\", cm)"
   ]
  }
 ],
 "metadata": {
  "kernelspec": {
   "display_name": "Python 3 (system-wide)",
   "language": "python",
   "metadata": {
    "cocalc": {
     "description": "Python 3 programming language",
     "priority": 100,
     "url": "https://www.python.org/"
    }
   },
   "name": "python3",
   "resource_dir": "/ext/jupyter/kernels/python3"
  },
  "language_info": {
   "codemirror_mode": {
    "name": "ipython",
    "version": 3
   },
   "file_extension": ".py",
   "mimetype": "text/x-python",
   "name": "python",
   "nbconvert_exporter": "python",
   "pygments_lexer": "ipython3",
   "version": "3.8.5"
  }
 },
 "nbformat": 4,
 "nbformat_minor": 4
}