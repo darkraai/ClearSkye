{
 "cells": [
  {
   "cell_type": "code",
   "execution_count": 26,
   "metadata": {
    "collapsed": false,
    "id": "JJZOGoroX5ay"
   },
   "outputs": [
   ],
   "source": [
    "import numpy as np  # data science-y operations library\n",
    "import pandas as pd  # dataframe library\n",
    "import matplotlib.pyplot as plt  # plot visualization library"
   ]
  },
  {
   "cell_type": "code",
   "execution_count": 27,
   "metadata": {
    "collapsed": false,
    "id": "TyYe6ULwX5a9"
   },
   "outputs": [
   ],
   "source": [
    "# cleanses dataset\n",
    "def shrinker(df):\n",
    "    # prune cols that have no values\n",
    "    description = df.describe(include=\"all\")\n",
    "    description = description.transpose()\n",
    "    nonzero_df = df[description[description[\"count\"] > 0].index] \n",
    "    # prune cols comprised of only one value\n",
    "    non_redundant = []\n",
    "    for col in nonzero_df.columns.values:\n",
    "        if len(np.unique(nonzero_df[col].tolist())) > 1:\n",
    "            non_redundant.append(col)\n",
    "    return nonzero_df[non_redundant]\n",
    "\n",
    "mem_df = shrinker(pd.read_csv(\"ClearSkyedata.csv\"))"
   ]
  },
  {
   "cell_type": "code",
   "execution_count": 50,
   "metadata": {
    "collapsed": false,
    "id": "HKolbF5AX5a-"
   },
   "outputs": [
   ],
   "source": [
    "# breaks up IGA Objects' titles into three substring columns\n",
    "def split_titles(df, col_name):\n",
    "    title_spl = [x if len(x)==3 else [x[0], x[1]+' '+x[2], x[3]] for x in df[col_name].str.split(' ').tolist()]\n",
    "    df['title0'] = [x[0] for x in title_spl]\n",
    "    df['title1'] = [x[1] for x in title_spl]\n",
    "    df['title2'] = [x[2] for x in title_spl]\n",
    "split_titles(mem_df, 'ilm_object.description')"
   ]
  },
  {
   "cell_type": "code",
   "execution_count": 39,
   "metadata": {
    "collapsed": false,
    "id": "L9PJ0mUwX5a-"
   },
   "outputs": [
   ],
   "source": [
    "# more dataset cleansing, removing specified columns\n",
    "mem_df_clean = mem_df.fillna(\"none\")\n",
    "mem_df_clean.drop([\"group.description\", \"group\", \"ilm_object\", \"ilm_object.name\", \"ilm_object.description\", \n",
    "                    \"group.source\"], axis=1, inplace=True)"
   ]
  },
  {
   "cell_type": "code",
   "execution_count": 40,
   "metadata": {
    "colab": {
     "base_uri": "https://localhost:8080/",
     "height": 419
    },
    "collapsed": false,
    "id": "IZE4NSa3X5a_",
    "outputId": "dfc7b9ff-7771-4c17-a2b4-f9b82520d96d"
   },
   "outputs": [
   ],
   "source": [
    "# add fit column\n",
    "mem_df_clean['fit'] = 1"
   ]
  },
  {
   "cell_type": "code",
   "execution_count": 1,
   "metadata": {
    "colab": {
     "base_uri": "https://localhost:8080/",
     "height": 419
    },
    "collapsed": false,
    "id": "NPS4EGk4X5a_",
    "outputId": "7f37e24a-296a-411f-e711-de855c9ab13b"
   },
   "outputs": [
   ],
   "source": [
    "# append a df of random pseudo datapoints based on given dataset\n",
    "mem_df_cross = mem_df_clean.copy()\n",
    "df_dict = {}\n",
    "for col, values in mem_df_cross.iteritems():\n",
    "    if col == 'fit':  # indicate the new datapoints don't fit entitlements\n",
    "        df_dict[col] = np.full(10000, 0)\n",
    "    else:  # randomize the row value from previous values\n",
    "        df_dict[col] = np.random.choice(np.unique(values.tolist()), size = 10000)\n",
    "\n",
    "mem_df_cross = mem_df_cross.append(pd.DataFrame(df_dict))"
   ]
  },
  {
   "cell_type": "code",
   "execution_count": 42,
   "metadata": {
    "collapsed": false,
    "id": "jMFJxICsX5bA"
   },
   "outputs": [
   ],
   "source": [
    "from sklearn.preprocessing import OneHotEncoder  # tool to discretely quantify qualitative data\n",
    "from sklearn.model_selection import train_test_split\n",
    "\n",
    "OH_enc = OneHotEncoder()\n",
    "X = OH_enc.fit_transform(mem_df_cross.drop('fit', axis = 1))  # create one hot encoded features\n",
    "y = mem_df_cross['fit']\n",
    "# split up dataset for model, one to train model, one to test it\n",
    "X_train, X_test, y_train, y_test = train_test_split(X, y, test_size=0.3, train_size=0.7, random_state=300)"
   ]
  },
  {
   "cell_type": "code",
   "execution_count": 43,
   "metadata": {
    "colab": {
     "base_uri": "https://localhost:8080/"
    },
    "collapsed": false,
    "id": "qxRgk9Lz-oRy",
    "outputId": "37ea4249-f988-414d-d899-31f6113be079"
   },
   "outputs": [
    {
     "data": {
      "text/plain": [
       "LogisticRegression(random_state=88)"
      ]
     },
     "execution_count": 43,
     "metadata": {
     },
     "output_type": "execute_result"
    }
   ],
   "source": [
    "from sklearn.linear_model import LogisticRegression\n",
    "\n",
    "logreg = LogisticRegression(random_state=88)\n",
    "logreg.fit(X_train, y_train)"
   ]
  },
  {
   "cell_type": "code",
   "execution_count": 44,
   "metadata": {
    "colab": {
     "base_uri": "https://localhost:8080/"
    },
    "collapsed": false,
    "id": "z_0UJT4N-vSr",
    "outputId": "06724b19-7e1d-439f-f48a-3638826e8859"
   },
   "outputs": [
    {
     "name": "stdout",
     "output_type": "stream",
     "text": [
      "Confusion Matrix: \n",
      " [[2864  127]\n",
      " [  99 2910]]\n",
      "\n",
      "Accuracy: 0.9623333333333334\n"
     ]
    }
   ],
   "source": [
    "from sklearn.metrics import classification_report, confusion_matrix, accuracy_score, f1_score\n",
    "\n",
    "y_prob = logreg.predict_proba(X_test)\n",
    "y_pred = pd.Series([1 if x > 0.5 else 0 for x in y_prob[:,1]], index=y_test.index)\n",
    "\n",
    "cm = confusion_matrix(y_test, y_pred)\n",
    "print (\"Confusion Matrix: \\n\", cm)\n",
    "print (\"\\nAccuracy:\", accuracy_score(y_test, y_pred))"
   ]
  },
  {
   "cell_type": "code",
   "execution_count": 68,
   "metadata": {
    "collapsed": false,
    "id": "_zIe57fHFah2"
   },
   "outputs": [
    {
     "data": {
      "text/html": [
       "<div>\n",
       "<style scoped>\n",
       "    .dataframe tbody tr th:only-of-type {\n",
       "        vertical-align: middle;\n",
       "    }\n",
       "\n",
       "    .dataframe tbody tr th {\n",
       "        vertical-align: top;\n",
       "    }\n",
       "\n",
       "    .dataframe thead th {\n",
       "        text-align: right;\n",
       "    }\n",
       "</style>\n",
       "<table border=\"1\" class=\"dataframe\">\n",
       "  <thead>\n",
       "    <tr style=\"text-align: right;\">\n",
       "      <th></th>\n",
       "      <th>ilm_object</th>\n",
       "      <th>parent.ilm_object.description</th>\n",
       "      <th>parent.ilm_object.ref_x_cls_clear_skye_i_account.department</th>\n",
       "      <th>parent.ilm_object.ref_x_cls_clear_skye_i_account.office</th>\n",
       "      <th>access</th>\n",
       "    </tr>\n",
       "  </thead>\n",
       "  <tbody>\n",
       "    <tr>\n",
       "      <th>0</th>\n",
       "      <td>All Sales Users</td>\n",
       "      <td>Chief Technician Manager</td>\n",
       "      <td>Sales</td>\n",
       "      <td>Emeryville</td>\n",
       "      <td>1</td>\n",
       "    </tr>\n",
       "    <tr>\n",
       "      <th>1</th>\n",
       "      <td>All Sales Users</td>\n",
       "      <td>Junior Consultant Normal</td>\n",
       "      <td>Sales</td>\n",
       "      <td>Fremont</td>\n",
       "      <td>0</td>\n",
       "    </tr>\n",
       "    <tr>\n",
       "      <th>2</th>\n",
       "      <td>All Legal Department Users</td>\n",
       "      <td>Principal Fellow Employee</td>\n",
       "      <td>Legal Department</td>\n",
       "      <td>Milpitas</td>\n",
       "      <td>1</td>\n",
       "    </tr>\n",
       "    <tr>\n",
       "      <th>3</th>\n",
       "      <td>All Legal Department Users</td>\n",
       "      <td>Junior Coordinator Employee</td>\n",
       "      <td>Legal Department</td>\n",
       "      <td>Redmond</td>\n",
       "      <td>1</td>\n",
       "    </tr>\n",
       "    <tr>\n",
       "      <th>4</th>\n",
       "      <td>All Legal Department Users</td>\n",
       "      <td>Junior President Contract</td>\n",
       "      <td>Legal Department</td>\n",
       "      <td>Orem</td>\n",
       "      <td>1</td>\n",
       "    </tr>\n",
       "    <tr>\n",
       "      <th>...</th>\n",
       "      <td>...</td>\n",
       "      <td>...</td>\n",
       "      <td>...</td>\n",
       "      <td>...</td>\n",
       "      <td>...</td>\n",
       "    </tr>\n",
       "    <tr>\n",
       "      <th>49894</th>\n",
       "      <td>All Product Testing Users</td>\n",
       "      <td>Chief Admin Contract</td>\n",
       "      <td>Product Testing</td>\n",
       "      <td>Emeryville</td>\n",
       "      <td>1</td>\n",
       "    </tr>\n",
       "    <tr>\n",
       "      <th>49895</th>\n",
       "      <td>All Sales Users</td>\n",
       "      <td>Senior Inspector Manager</td>\n",
       "      <td>Sales</td>\n",
       "      <td>Fremont</td>\n",
       "      <td>0</td>\n",
       "    </tr>\n",
       "    <tr>\n",
       "      <th>49896</th>\n",
       "      <td>All Product Testing Users</td>\n",
       "      <td>Associate Visionary Contract</td>\n",
       "      <td>Product Testing</td>\n",
       "      <td>Cupertino</td>\n",
       "      <td>0</td>\n",
       "    </tr>\n",
       "    <tr>\n",
       "      <th>49897</th>\n",
       "      <td>All Product Testing Users</td>\n",
       "      <td>Master Manager Normal</td>\n",
       "      <td>Product Testing</td>\n",
       "      <td>Abuja</td>\n",
       "      <td>0</td>\n",
       "    </tr>\n",
       "    <tr>\n",
       "      <th>49898</th>\n",
       "      <td>All IT Users</td>\n",
       "      <td>Elite Developer Manager</td>\n",
       "      <td>IT</td>\n",
       "      <td>San Francisco</td>\n",
       "      <td>0</td>\n",
       "    </tr>\n",
       "  </tbody>\n",
       "</table>\n",
       "<p>49899 rows × 5 columns</p>\n",
       "</div>"
      ],
      "text/plain": [
       "                       ilm_object parent.ilm_object.description  \\\n",
       "0                 All Sales Users      Chief Technician Manager   \n",
       "1                 All Sales Users      Junior Consultant Normal   \n",
       "2      All Legal Department Users     Principal Fellow Employee   \n",
       "3      All Legal Department Users   Junior Coordinator Employee   \n",
       "4      All Legal Department Users     Junior President Contract   \n",
       "...                           ...                           ...   \n",
       "49894   All Product Testing Users          Chief Admin Contract   \n",
       "49895             All Sales Users      Senior Inspector Manager   \n",
       "49896   All Product Testing Users  Associate Visionary Contract   \n",
       "49897   All Product Testing Users         Master Manager Normal   \n",
       "49898                All IT Users       Elite Developer Manager   \n",
       "\n",
       "      parent.ilm_object.ref_x_cls_clear_skye_i_account.department  \\\n",
       "0                                                  Sales            \n",
       "1                                                  Sales            \n",
       "2                                       Legal Department            \n",
       "3                                       Legal Department            \n",
       "4                                       Legal Department            \n",
       "...                                                  ...            \n",
       "49894                                    Product Testing            \n",
       "49895                                              Sales            \n",
       "49896                                    Product Testing            \n",
       "49897                                    Product Testing            \n",
       "49898                                                 IT            \n",
       "\n",
       "      parent.ilm_object.ref_x_cls_clear_skye_i_account.office  access  \n",
       "0                                             Emeryville            1  \n",
       "1                                                Fremont            0  \n",
       "2                                               Milpitas            1  \n",
       "3                                                Redmond            1  \n",
       "4                                                   Orem            1  \n",
       "...                                                  ...          ...  \n",
       "49894                                         Emeryville            1  \n",
       "49895                                            Fremont            0  \n",
       "49896                                          Cupertino            0  \n",
       "49897                                              Abuja            0  \n",
       "49898                                      San Francisco            0  \n",
       "\n",
       "[49899 rows x 5 columns]"
      ]
     },
     "execution_count": 68,
     "metadata": {
     },
     "output_type": "execute_result"
    }
   ],
   "source": [
    "real_df = pd.read_csv('realData.csv')\n",
    "real_df = real_df.fillna('none')\n",
    "real_df.drop(['parent'], axis=1, inplace=True)\n",
    "real_df['access'] = (real_df['action'] == 'Keep Access') * 1\n",
    "real_df.drop(['action'], axis=1, inplace=True)\n",
    "# TODO: PROBLEM WITH DIFFERING NUMBER OF SUBSTRINGS\n"
   ]
  },
  {
   "cell_type": "code",
   "execution_count": 69,
   "metadata": {
    "collapsed": false
   },
   "outputs": [
   ],
   "source": [
    "X = OH_enc.fit_transform(real_df.drop('access', axis = 1))  # create one hot encoded features\n",
    "y = real_df['access']\n",
    "# split up dataset for model, one to train model, one to test it\n",
    "X_train, X_test, y_train, y_test = train_test_split(X, y, test_size=0.3, train_size=0.7, random_state=300)"
   ]
  },
  {
   "cell_type": "code",
   "execution_count": 70,
   "metadata": {
    "collapsed": false
   },
   "outputs": [
    {
     "name": "stderr",
     "output_type": "stream",
     "text": [
      "/Users/edawg/anaconda3/lib/python3.7/site-packages/sklearn/linear_model/_logistic.py:765: ConvergenceWarning: lbfgs failed to converge (status=1):\n",
      "STOP: TOTAL NO. of ITERATIONS REACHED LIMIT.\n",
      "\n",
      "Increase the number of iterations (max_iter) or scale the data as shown in:\n",
      "    https://scikit-learn.org/stable/modules/preprocessing.html\n",
      "Please also refer to the documentation for alternative solver options:\n",
      "    https://scikit-learn.org/stable/modules/linear_model.html#logistic-regression\n",
      "  extra_warning_msg=_LOGISTIC_SOLVER_CONVERGENCE_MSG)\n"
     ]
    },
    {
     "data": {
      "text/plain": [
       "LogisticRegression(random_state=88)"
      ]
     },
     "execution_count": 70,
     "metadata": {
     },
     "output_type": "execute_result"
    }
   ],
   "source": [
    "logreg = LogisticRegression(random_state=88)\n",
    "logreg.fit(X_train, y_train)"
   ]
  },
  {
   "cell_type": "code",
   "execution_count": 72,
   "metadata": {
    "collapsed": false
   },
   "outputs": [
    {
     "name": "stdout",
     "output_type": "stream",
     "text": [
      "Confusion Matrix: \n",
      " [[3630 3792]\n",
      " [3694 3854]]\n",
      "\n",
      "Accuracy: 0.4999331997327989\n"
     ]
    }
   ],
   "source": [
    "y_prob = logreg.predict_proba(X_test)\n",
    "y_pred = pd.Series([1 if x > 0.5 else 0 for x in y_prob[:,1]], index=y_test.index)\n",
    "\n",
    "cm = confusion_matrix(y_test, y_pred)\n",
    "print (\"Confusion Matrix: \\n\", cm)\n",
    "print (\"\\nAccuracy:\", accuracy_score(y_test, y_pred))"
   ]
  },
  {
   "cell_type": "code",
   "execution_count": 0,
   "metadata": {
    "collapsed": false
   },
   "outputs": [
   ],
   "source": [
   ]
  }
 ],
 "metadata": {
  "colab": {
   "collapsed_sections": [
   ],
   "name": "Justin, Ethan, Kaitlyn Models.ipynb",
   "provenance": [
   ],
   "toc_visible": true
  },
  "kernelspec": {
   "display_name": "Python 3 (system-wide)",
   "language": "python",
   "metadata": {
    "cocalc": {
     "description": "Python 3 programming language",
     "priority": 100,
     "url": "https://www.python.org/"
    }
   },
   "name": "python3",
   "resource_dir": "/ext/jupyter/kernels/python3"
  },
  "language_info": {
   "codemirror_mode": {
    "name": "ipython",
    "version": 3
   },
   "file_extension": ".py",
   "mimetype": "text/x-python",
   "name": "python",
   "nbconvert_exporter": "python",
   "pygments_lexer": "ipython3",
   "version": "3.7.4"
  }
 },
 "nbformat": 4,
 "nbformat_minor": 4
}